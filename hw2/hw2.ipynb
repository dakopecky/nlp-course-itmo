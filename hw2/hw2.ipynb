{
 "cells": [
  {
   "cell_type": "markdown",
   "source": [
    "# Dependency Installation and Repository Cloning"
   ],
   "metadata": {
    "id": "kOyTYZgsq035"
   },
   "id": "kOyTYZgsq035"
  },
  {
   "cell_type": "markdown",
   "source": [
    "### Run it if you're using this notebook in Google Colab"
   ],
   "metadata": {
    "id": "bIgHW9Muv5Ad"
   },
   "id": "bIgHW9Muv5Ad"
  },
  {
   "cell_type": "code",
   "source": [
    "!git clone 'https://github.com/dakopecky/nlp-course-itmo.git'\n",
    "\n",
    "%cd nlp-course-itmo\n",
    "!git checkout hw2\n",
    "%cd hw2\n",
    "\n",
    "!pip install poetry\n",
    "!poetry config virtualenvs.create false\n",
    "!poetry install --no-ansi"
   ],
   "metadata": {
    "id": "n2pvOkxAtnM4"
   },
   "id": "n2pvOkxAtnM4",
   "execution_count": null,
   "outputs": []
  },
  {
   "cell_type": "markdown",
   "source": [
    "# From Text to Vectors: Data Transformation and Model Fitting"
   ],
   "metadata": {
    "id": "HRWriMo2u41c"
   },
   "id": "HRWriMo2u41c"
  },
  {
   "cell_type": "markdown",
   "source": [
    "Import deps"
   ],
   "metadata": {
    "collapsed": false,
    "id": "dca1d5278cf61bad"
   },
   "id": "dca1d5278cf61bad"
  },
  {
   "cell_type": "code",
   "execution_count": 1,
   "outputs": [],
   "source": [
    "# This code includes software developed by the following open-source projects:\n",
    "# - Pandas (License: BSD-3-Clause License, Authors: Pandas Development Team)\n",
    "# - tqdm (License: MIT License, Authors: Noam Yorav-Raphael)\n",
    "# - scikit-learn (License: BSD License, Authors: scikit-learn Developers)\n",
    "# - Jupyter Notebook (License: Modified BSD License, Authors: Project Jupyter)\n",
    "# For the full license information, please see the `licenses` directory.\n",
    "\n",
    "\n",
    "import pandas as pd\n",
    "from tqdm.notebook import tqdm\n",
    "from sklearn.model_selection import train_test_split\n",
    "from sklearn.feature_extraction.text import CountVectorizer, TfidfVectorizer\n",
    "from sklearn.model_selection import GridSearchCV\n",
    "from sklearn.tree import DecisionTreeClassifier\n",
    "from sklearn.linear_model import LogisticRegression\n",
    "from sklearn.naive_bayes import MultinomialNB\n",
    "from sklearn.metrics import accuracy_score"
   ],
   "metadata": {
    "id": "309681695a20c267",
    "ExecuteTime": {
     "end_time": "2023-10-07T12:54:18.026920Z",
     "start_time": "2023-10-07T12:54:16.903207Z"
    }
   },
   "id": "309681695a20c267"
  },
  {
   "cell_type": "markdown",
   "source": [
    "Download the \"Spam or not spam\" dataset"
   ],
   "metadata": {
    "collapsed": false,
    "id": "dcae3b8b511680c9"
   },
   "id": "dcae3b8b511680c9"
  },
  {
   "cell_type": "code",
   "execution_count": 35,
   "outputs": [],
   "source": [
    "!wget -q 'https://www.dropbox.com/scl/fi/8xeu3og5umjc7hfalrntu/spam_or_not_spam.csv?rlkey=utzaie3ti891ba80pbaryefzx&dl=1' -O 'spam-or-not-spam.csv'"
   ],
   "metadata": {
    "id": "bf3ca4807ca0c69d",
    "ExecuteTime": {
     "end_time": "2023-10-07T12:44:32.855419Z",
     "start_time": "2023-10-07T12:44:25.034244Z"
    }
   },
   "id": "bf3ca4807ca0c69d"
  },
  {
   "cell_type": "markdown",
   "source": [
    "Load the dataset"
   ],
   "metadata": {
    "collapsed": false,
    "id": "a3d3487c8f0b0826"
   },
   "id": "a3d3487c8f0b0826"
  },
  {
   "cell_type": "code",
   "execution_count": 36,
   "outputs": [],
   "source": [
    "dataset_path = 'spam-or-not-spam.csv'\n",
    "df = pd.read_csv(dataset_path)\n",
    "df.dropna(inplace=True)"
   ],
   "metadata": {
    "id": "d16650c7798ffb08",
    "ExecuteTime": {
     "end_time": "2023-10-07T12:44:39.860746Z",
     "start_time": "2023-10-07T12:44:39.816562Z"
    }
   },
   "id": "d16650c7798ffb08"
  },
  {
   "cell_type": "markdown",
   "source": [
    "Ensure reproducibility"
   ],
   "metadata": {
    "collapsed": false,
    "id": "338bc4077682982c"
   },
   "id": "338bc4077682982c"
  },
  {
   "cell_type": "code",
   "execution_count": 37,
   "outputs": [],
   "source": [
    "RANDOM_STATE = 42"
   ],
   "metadata": {
    "id": "520633f23c163506",
    "ExecuteTime": {
     "end_time": "2023-10-07T12:44:48.565182Z",
     "start_time": "2023-10-07T12:44:48.560401Z"
    }
   },
   "id": "520633f23c163506"
  },
  {
   "cell_type": "markdown",
   "source": [
    "Split the dataset into training and test sets"
   ],
   "metadata": {
    "collapsed": false,
    "id": "559825525289bb68"
   },
   "id": "559825525289bb68"
  },
  {
   "cell_type": "code",
   "execution_count": 38,
   "outputs": [],
   "source": [
    "X = df['email']\n",
    "y = df['label']\n",
    "X_train, X_test, y_train, y_test = train_test_split(X, y, test_size=0.25, random_state=RANDOM_STATE)"
   ],
   "metadata": {
    "id": "b96d3d744e77e201",
    "ExecuteTime": {
     "end_time": "2023-10-07T12:44:54.812196Z",
     "start_time": "2023-10-07T12:44:54.807825Z"
    }
   },
   "id": "b96d3d744e77e201"
  },
  {
   "cell_type": "markdown",
   "source": [
    "Initialize vectorizers"
   ],
   "metadata": {
    "collapsed": false,
    "id": "a0e6457eaae071c6"
   },
   "id": "a0e6457eaae071c6"
  },
  {
   "cell_type": "code",
   "execution_count": 39,
   "outputs": [],
   "source": [
    "count_vectorizer = CountVectorizer()\n",
    "tfidf_vectorizer = TfidfVectorizer()"
   ],
   "metadata": {
    "id": "f065ef7351b8c51a",
    "ExecuteTime": {
     "end_time": "2023-10-07T12:44:58.307239Z",
     "start_time": "2023-10-07T12:44:58.305104Z"
    }
   },
   "id": "f065ef7351b8c51a"
  },
  {
   "cell_type": "markdown",
   "source": [
    "Fit and transform the training data"
   ],
   "metadata": {
    "id": "fMZtcU5UwyHk"
   },
   "id": "fMZtcU5UwyHk"
  },
  {
   "cell_type": "code",
   "execution_count": 40,
   "outputs": [],
   "source": [
    "X_train_count = count_vectorizer.fit_transform(X_train)\n",
    "X_train_tfidf = tfidf_vectorizer.fit_transform(X_train)"
   ],
   "metadata": {
    "id": "1b0848ac274cbd9a",
    "colab": {
     "base_uri": "https://localhost:8080/"
    },
    "outputId": "2f1cd3eb-48cf-4d49-a28a-252eae5a3f0e",
    "ExecuteTime": {
     "end_time": "2023-10-07T12:44:59.997416Z",
     "start_time": "2023-10-07T12:44:59.641919Z"
    }
   },
   "id": "1b0848ac274cbd9a"
  },
  {
   "cell_type": "markdown",
   "source": [
    "Transform the test data"
   ],
   "metadata": {
    "id": "bZ8-nx1Iw8WB"
   },
   "id": "bZ8-nx1Iw8WB"
  },
  {
   "cell_type": "code",
   "execution_count": 41,
   "outputs": [],
   "source": [
    "X_test_count = count_vectorizer.transform(X_test)\n",
    "X_test_tfidf = tfidf_vectorizer.transform(X_test)"
   ],
   "metadata": {
    "id": "1b99866393dcdf6b",
    "colab": {
     "base_uri": "https://localhost:8080/"
    },
    "outputId": "bd178da8-b3e0-4799-b5c3-78df3f683858",
    "ExecuteTime": {
     "end_time": "2023-10-07T12:45:01.856895Z",
     "start_time": "2023-10-07T12:45:01.796917Z"
    }
   },
   "id": "1b99866393dcdf6b"
  },
  {
   "cell_type": "markdown",
   "source": [
    "Initialize classifiers"
   ],
   "metadata": {
    "collapsed": false,
    "id": "14b8fe3a45819177"
   },
   "id": "14b8fe3a45819177"
  },
  {
   "cell_type": "code",
   "execution_count": 42,
   "outputs": [],
   "source": [
    "models = {\n",
    "    'DecisionTree': DecisionTreeClassifier(random_state=RANDOM_STATE),\n",
    "    'LogisticRegression': LogisticRegression(random_state=RANDOM_STATE, max_iter=1000),\n",
    "    'NaiveBayes': MultinomialNB()\n",
    "}"
   ],
   "metadata": {
    "id": "defc5e516755b4a9",
    "ExecuteTime": {
     "end_time": "2023-10-07T12:45:03.037333Z",
     "start_time": "2023-10-07T12:45:03.032754Z"
    }
   },
   "id": "defc5e516755b4a9"
  },
  {
   "cell_type": "markdown",
   "source": [
    "Parameters for GridSearchCV"
   ],
   "metadata": {
    "collapsed": false,
    "id": "c2c481f332d4dc9b"
   },
   "id": "c2c481f332d4dc9b"
  },
  {
   "cell_type": "code",
   "execution_count": 43,
   "outputs": [],
   "source": [
    "params = {\n",
    "    'DecisionTree': {'max_depth': [10, 20, 30]},\n",
    "    'LogisticRegression': {'C': [0.1, 1, 10]},\n",
    "    'NaiveBayes': {'alpha': [0.1, 1, 10]}\n",
    "}"
   ],
   "metadata": {
    "id": "f199f25bc15908bf",
    "ExecuteTime": {
     "end_time": "2023-10-07T12:45:05.001634Z",
     "start_time": "2023-10-07T12:45:04.997455Z"
    }
   },
   "id": "f199f25bc15908bf"
  },
  {
   "cell_type": "markdown",
   "source": [
    "Train models and tune hyperparameters"
   ],
   "metadata": {
    "collapsed": false,
    "id": "9fdfe0295b9c53a4"
   },
   "id": "9fdfe0295b9c53a4"
  },
  {
   "cell_type": "code",
   "execution_count": 44,
   "outputs": [
    {
     "data": {
      "text/plain": "Models:   0%|          | 0/3 [00:00<?, ?model/s]",
      "application/vnd.jupyter.widget-view+json": {
       "version_major": 2,
       "version_minor": 0,
       "model_id": "9644d2f38a0b40e0b68ae9c0231a05a0"
      }
     },
     "metadata": {},
     "output_type": "display_data"
    }
   ],
   "source": [
    "results = {}\n",
    "\n",
    "# Loop through models\n",
    "for name in tqdm(models.keys(), desc='Models', unit='model'):\n",
    "    model = models[name]\n",
    "    grid_count = GridSearchCV(model, params[name], cv=5)\n",
    "    grid_tfidf = GridSearchCV(model, params[name], cv=5)\n",
    "\n",
    "    grid_count.fit(X_train_count, y_train)\n",
    "    acc_train_count = accuracy_score(y_train, grid_count.predict(X_train_count))\n",
    "    acc_test_count = accuracy_score(y_test, grid_count.predict(X_test_count))\n",
    "\n",
    "    grid_tfidf.fit(X_train_tfidf, y_train)\n",
    "    acc_train_tfidf = accuracy_score(y_train, grid_tfidf.predict(X_train_tfidf))\n",
    "    acc_test_tfidf = accuracy_score(y_test, grid_tfidf.predict(X_test_tfidf))\n",
    "\n",
    "    results[name] = {\n",
    "        'Train CountVectorizer': acc_train_count,\n",
    "        'Test CountVectorizer': acc_test_count,\n",
    "        'Train TfidfVectorizer': acc_train_tfidf,\n",
    "        'Test TfidfVectorizer': acc_test_tfidf,\n",
    "        'Best Params CountVectorizer': grid_count.best_params_,\n",
    "        'Best Params TfidfVectorizer': grid_tfidf.best_params_\n",
    "    }"
   ],
   "metadata": {
    "id": "98fee96826ca0515",
    "ExecuteTime": {
     "end_time": "2023-10-07T12:45:26.202131Z",
     "start_time": "2023-10-07T12:45:06.854337Z"
    }
   },
   "id": "98fee96826ca0515"
  },
  {
   "cell_type": "markdown",
   "source": [
    "Output the results in a readable format"
   ],
   "metadata": {
    "collapsed": false
   },
   "id": "129cae53be00ac64"
  },
  {
   "cell_type": "code",
   "execution_count": 45,
   "outputs": [
    {
     "name": "stdout",
     "output_type": "stream",
     "text": [
      "Model: DecisionTree\n",
      "Train CountVectorizer: 0.9968875055580257\n",
      "Test CountVectorizer: 0.9693333333333334\n",
      "Train TfidfVectorizer: 0.9977767896843042\n",
      "Test TfidfVectorizer: 0.976\n",
      "Best Params CountVectorizer: {'max_depth': 20}\n",
      "Best Params TfidfVectorizer: {'max_depth': 20}\n",
      "\n",
      "\n",
      "Model: LogisticRegression\n",
      "Train CountVectorizer: 0.9986660738105825\n",
      "Test CountVectorizer: 0.9933333333333333\n",
      "Train TfidfVectorizer: 0.9968875055580257\n",
      "Test TfidfVectorizer: 0.9866666666666667\n",
      "Best Params CountVectorizer: {'C': 1}\n",
      "Best Params TfidfVectorizer: {'C': 10}\n",
      "\n",
      "\n",
      "Model: NaiveBayes\n",
      "Train CountVectorizer: 0.9968875055580257\n",
      "Test CountVectorizer: 0.9946666666666667\n",
      "Train TfidfVectorizer: 0.9933303690529124\n",
      "Test TfidfVectorizer: 0.9826666666666667\n",
      "Best Params CountVectorizer: {'alpha': 0.1}\n",
      "Best Params TfidfVectorizer: {'alpha': 0.1}\n"
     ]
    }
   ],
   "source": [
    "for name, metrics in results.items():\n",
    "    print(f\"Model: {name}\")\n",
    "    for metric, value in metrics.items():\n",
    "        print(f\"{metric}: {value}\")\n",
    "    print(\"\\n\")"
   ],
   "metadata": {
    "collapsed": false,
    "ExecuteTime": {
     "end_time": "2023-10-07T12:45:28.383774Z",
     "start_time": "2023-10-07T12:45:28.366088Z"
    }
   },
   "id": "92d7a4623fbdaa80"
  }
 ],
 "metadata": {
  "kernelspec": {
   "name": "python3",
   "language": "python",
   "display_name": "Python 3 (ipykernel)"
  },
  "language_info": {
   "codemirror_mode": {
    "name": "ipython",
    "version": 2
   },
   "file_extension": ".py",
   "mimetype": "text/x-python",
   "name": "python",
   "nbconvert_exporter": "python",
   "pygments_lexer": "ipython2",
   "version": "2.7.6"
  },
  "colab": {
   "provenance": [],
   "gpuType": "T4",
   "collapsed_sections": [
    "kOyTYZgsq035",
    "bIgHW9Muv5Ad",
    "HRWriMo2u41c"
   ]
  },
  "accelerator": "GPU"
 },
 "nbformat": 4,
 "nbformat_minor": 5
}
