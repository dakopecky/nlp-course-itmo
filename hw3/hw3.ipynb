{
  "cells": [
    {
      "cell_type": "markdown",
      "id": "kOyTYZgsq035",
      "metadata": {
        "id": "kOyTYZgsq035"
      },
      "source": [
        "# Dependency Installation and Repository Cloning"
      ]
    },
    {
      "cell_type": "markdown",
      "id": "bIgHW9Muv5Ad",
      "metadata": {
        "id": "bIgHW9Muv5Ad"
      },
      "source": [
        "### Run it if you're using this notebook in Google Colab"
      ]
    },
    {
      "cell_type": "code",
      "execution_count": null,
      "id": "n2pvOkxAtnM4",
      "metadata": {
        "id": "n2pvOkxAtnM4"
      },
      "outputs": [],
      "source": [
        "!git clone 'https://github.com/dakopecky/nlp-course-itmo.git'\n",
        "\n",
        "%cd nlp-course-itmo\n",
        "!git checkout hw3\n",
        "%cd hw3\n",
        "\n",
        "!pip install poetry\n",
        "!poetry config virtualenvs.create false\n",
        "!poetry install --no-ansi"
      ]
    },
    {
      "cell_type": "markdown",
      "id": "HRWriMo2u41c",
      "metadata": {
        "id": "HRWriMo2u41c"
      },
      "source": [
        "# Dataset Loading and Preprocessing"
      ]
    },
    {
      "cell_type": "markdown",
      "id": "dca1d5278cf61bad",
      "metadata": {
        "collapsed": false,
        "id": "dca1d5278cf61bad"
      },
      "source": [
        "Import deps"
      ]
    },
    {
      "cell_type": "code",
      "execution_count": 4,
      "id": "309681695a20c267",
      "metadata": {
        "id": "309681695a20c267",
        "ExecuteTime": {
          "end_time": "2023-10-13T17:30:22.102904Z",
          "start_time": "2023-10-13T17:30:21.081175Z"
        }
      },
      "outputs": [],
      "source": [
        "# This code includes software developed by the following open-source projects:\n",
        "# - Pandas (License: BSD-3-Clause License, Authors: Pandas Development Team)\n",
        "# - tqdm (License: MIT License, Authors: Noam Yorav-Raphael)\n",
        "# - scikit-learn (License: BSD License, Authors: scikit-learn Developers)\n",
        "# - nltk (License: Apache License 2.0, Authors: NLTK Project)\n",
        "# - numpy (License: BSD-3-Clause license, Authors: NumPy Developers)\n",
        "# - gensim (License: LGPL-2.1 License, Authors: Radim Rehurek, Petr Sojka and Gensim Contributors)\n",
        "# - Jupyter Notebook (License: Modified BSD License, Authors: Project Jupyter)\n",
        "# For the full license information, please see the `licenses` directory.\n",
        "\n",
        "\n",
        "import nltk\n",
        "from nltk.corpus import stopwords\n",
        "from nltk.tokenize import word_tokenize\n",
        "from nltk.stem import WordNetLemmatizer\n",
        "import numpy as np\n",
        "import pandas as pd\n",
        "from tqdm import tqdm\n",
        "from gensim.models import FastText\n",
        "from gensim.models import Word2Vec\n",
        "from sklearn.model_selection import train_test_split\n",
        "from sklearn.linear_model import LogisticRegression\n",
        "from sklearn.metrics import accuracy_score"
      ]
    },
    {
      "cell_type": "markdown",
      "id": "dcae3b8b511680c9",
      "metadata": {
        "collapsed": false,
        "id": "dcae3b8b511680c9"
      },
      "source": [
        "Download the \"Spam or not spam\" dataset"
      ]
    },
    {
      "cell_type": "code",
      "execution_count": 2,
      "id": "bf3ca4807ca0c69d",
      "metadata": {
        "ExecuteTime": {
          "end_time": "2023-10-13T16:11:19.314818Z",
          "start_time": "2023-10-13T16:11:13.626371Z"
        },
        "id": "bf3ca4807ca0c69d"
      },
      "outputs": [],
      "source": [
        "!wget -q 'https://www.dropbox.com/scl/fi/8xeu3og5umjc7hfalrntu/spam_or_not_spam.csv?rlkey=utzaie3ti891ba80pbaryefzx&dl=1' -O 'spam-or-not-spam.csv'"
      ]
    },
    {
      "cell_type": "markdown",
      "id": "a3d3487c8f0b0826",
      "metadata": {
        "collapsed": false,
        "id": "a3d3487c8f0b0826"
      },
      "source": [
        "Load the dataset"
      ]
    },
    {
      "cell_type": "code",
      "execution_count": 5,
      "id": "d16650c7798ffb08",
      "metadata": {
        "id": "d16650c7798ffb08",
        "ExecuteTime": {
          "end_time": "2023-10-13T17:30:25.183787Z",
          "start_time": "2023-10-13T17:30:25.128912Z"
        },
        "colab": {
          "base_uri": "https://localhost:8080/",
          "height": 204
        },
        "outputId": "420d7076-e21a-4882-9186-d197d93d3b0a"
      },
      "outputs": [
        {
          "output_type": "execute_result",
          "data": {
            "text/plain": [
              "                                               email  label\n",
              "0   date wed NUMBER aug NUMBER NUMBER NUMBER NUMB...      0\n",
              "1  martin a posted tassos papadopoulos the greek ...      0\n",
              "2  man threatens explosion in moscow thursday aug...      0\n",
              "3  klez the virus that won t die already the most...      0\n",
              "4   in adding cream to spaghetti carbonara which ...      0"
            ],
            "text/html": [
              "\n",
              "  <div id=\"df-bd9b87e2-a9f5-413b-98eb-d63c0116366c\" class=\"colab-df-container\">\n",
              "    <div>\n",
              "<style scoped>\n",
              "    .dataframe tbody tr th:only-of-type {\n",
              "        vertical-align: middle;\n",
              "    }\n",
              "\n",
              "    .dataframe tbody tr th {\n",
              "        vertical-align: top;\n",
              "    }\n",
              "\n",
              "    .dataframe thead th {\n",
              "        text-align: right;\n",
              "    }\n",
              "</style>\n",
              "<table border=\"1\" class=\"dataframe\">\n",
              "  <thead>\n",
              "    <tr style=\"text-align: right;\">\n",
              "      <th></th>\n",
              "      <th>email</th>\n",
              "      <th>label</th>\n",
              "    </tr>\n",
              "  </thead>\n",
              "  <tbody>\n",
              "    <tr>\n",
              "      <th>0</th>\n",
              "      <td>date wed NUMBER aug NUMBER NUMBER NUMBER NUMB...</td>\n",
              "      <td>0</td>\n",
              "    </tr>\n",
              "    <tr>\n",
              "      <th>1</th>\n",
              "      <td>martin a posted tassos papadopoulos the greek ...</td>\n",
              "      <td>0</td>\n",
              "    </tr>\n",
              "    <tr>\n",
              "      <th>2</th>\n",
              "      <td>man threatens explosion in moscow thursday aug...</td>\n",
              "      <td>0</td>\n",
              "    </tr>\n",
              "    <tr>\n",
              "      <th>3</th>\n",
              "      <td>klez the virus that won t die already the most...</td>\n",
              "      <td>0</td>\n",
              "    </tr>\n",
              "    <tr>\n",
              "      <th>4</th>\n",
              "      <td>in adding cream to spaghetti carbonara which ...</td>\n",
              "      <td>0</td>\n",
              "    </tr>\n",
              "  </tbody>\n",
              "</table>\n",
              "</div>\n",
              "    <div class=\"colab-df-buttons\">\n",
              "\n",
              "  <div class=\"colab-df-container\">\n",
              "    <button class=\"colab-df-convert\" onclick=\"convertToInteractive('df-bd9b87e2-a9f5-413b-98eb-d63c0116366c')\"\n",
              "            title=\"Convert this dataframe to an interactive table.\"\n",
              "            style=\"display:none;\">\n",
              "\n",
              "  <svg xmlns=\"http://www.w3.org/2000/svg\" height=\"24px\" viewBox=\"0 -960 960 960\">\n",
              "    <path d=\"M120-120v-720h720v720H120Zm60-500h600v-160H180v160Zm220 220h160v-160H400v160Zm0 220h160v-160H400v160ZM180-400h160v-160H180v160Zm440 0h160v-160H620v160ZM180-180h160v-160H180v160Zm440 0h160v-160H620v160Z\"/>\n",
              "  </svg>\n",
              "    </button>\n",
              "\n",
              "  <style>\n",
              "    .colab-df-container {\n",
              "      display:flex;\n",
              "      gap: 12px;\n",
              "    }\n",
              "\n",
              "    .colab-df-convert {\n",
              "      background-color: #E8F0FE;\n",
              "      border: none;\n",
              "      border-radius: 50%;\n",
              "      cursor: pointer;\n",
              "      display: none;\n",
              "      fill: #1967D2;\n",
              "      height: 32px;\n",
              "      padding: 0 0 0 0;\n",
              "      width: 32px;\n",
              "    }\n",
              "\n",
              "    .colab-df-convert:hover {\n",
              "      background-color: #E2EBFA;\n",
              "      box-shadow: 0px 1px 2px rgba(60, 64, 67, 0.3), 0px 1px 3px 1px rgba(60, 64, 67, 0.15);\n",
              "      fill: #174EA6;\n",
              "    }\n",
              "\n",
              "    .colab-df-buttons div {\n",
              "      margin-bottom: 4px;\n",
              "    }\n",
              "\n",
              "    [theme=dark] .colab-df-convert {\n",
              "      background-color: #3B4455;\n",
              "      fill: #D2E3FC;\n",
              "    }\n",
              "\n",
              "    [theme=dark] .colab-df-convert:hover {\n",
              "      background-color: #434B5C;\n",
              "      box-shadow: 0px 1px 3px 1px rgba(0, 0, 0, 0.15);\n",
              "      filter: drop-shadow(0px 1px 2px rgba(0, 0, 0, 0.3));\n",
              "      fill: #FFFFFF;\n",
              "    }\n",
              "  </style>\n",
              "\n",
              "    <script>\n",
              "      const buttonEl =\n",
              "        document.querySelector('#df-bd9b87e2-a9f5-413b-98eb-d63c0116366c button.colab-df-convert');\n",
              "      buttonEl.style.display =\n",
              "        google.colab.kernel.accessAllowed ? 'block' : 'none';\n",
              "\n",
              "      async function convertToInteractive(key) {\n",
              "        const element = document.querySelector('#df-bd9b87e2-a9f5-413b-98eb-d63c0116366c');\n",
              "        const dataTable =\n",
              "          await google.colab.kernel.invokeFunction('convertToInteractive',\n",
              "                                                    [key], {});\n",
              "        if (!dataTable) return;\n",
              "\n",
              "        const docLinkHtml = 'Like what you see? Visit the ' +\n",
              "          '<a target=\"_blank\" href=https://colab.research.google.com/notebooks/data_table.ipynb>data table notebook</a>'\n",
              "          + ' to learn more about interactive tables.';\n",
              "        element.innerHTML = '';\n",
              "        dataTable['output_type'] = 'display_data';\n",
              "        await google.colab.output.renderOutput(dataTable, element);\n",
              "        const docLink = document.createElement('div');\n",
              "        docLink.innerHTML = docLinkHtml;\n",
              "        element.appendChild(docLink);\n",
              "      }\n",
              "    </script>\n",
              "  </div>\n",
              "\n",
              "\n",
              "<div id=\"df-f87de1e5-91d3-478d-8fe3-8a3229f9cfe4\">\n",
              "  <button class=\"colab-df-quickchart\" onclick=\"quickchart('df-f87de1e5-91d3-478d-8fe3-8a3229f9cfe4')\"\n",
              "            title=\"Suggest charts.\"\n",
              "            style=\"display:none;\">\n",
              "\n",
              "<svg xmlns=\"http://www.w3.org/2000/svg\" height=\"24px\"viewBox=\"0 0 24 24\"\n",
              "     width=\"24px\">\n",
              "    <g>\n",
              "        <path d=\"M19 3H5c-1.1 0-2 .9-2 2v14c0 1.1.9 2 2 2h14c1.1 0 2-.9 2-2V5c0-1.1-.9-2-2-2zM9 17H7v-7h2v7zm4 0h-2V7h2v10zm4 0h-2v-4h2v4z\"/>\n",
              "    </g>\n",
              "</svg>\n",
              "  </button>\n",
              "\n",
              "<style>\n",
              "  .colab-df-quickchart {\n",
              "      --bg-color: #E8F0FE;\n",
              "      --fill-color: #1967D2;\n",
              "      --hover-bg-color: #E2EBFA;\n",
              "      --hover-fill-color: #174EA6;\n",
              "      --disabled-fill-color: #AAA;\n",
              "      --disabled-bg-color: #DDD;\n",
              "  }\n",
              "\n",
              "  [theme=dark] .colab-df-quickchart {\n",
              "      --bg-color: #3B4455;\n",
              "      --fill-color: #D2E3FC;\n",
              "      --hover-bg-color: #434B5C;\n",
              "      --hover-fill-color: #FFFFFF;\n",
              "      --disabled-bg-color: #3B4455;\n",
              "      --disabled-fill-color: #666;\n",
              "  }\n",
              "\n",
              "  .colab-df-quickchart {\n",
              "    background-color: var(--bg-color);\n",
              "    border: none;\n",
              "    border-radius: 50%;\n",
              "    cursor: pointer;\n",
              "    display: none;\n",
              "    fill: var(--fill-color);\n",
              "    height: 32px;\n",
              "    padding: 0;\n",
              "    width: 32px;\n",
              "  }\n",
              "\n",
              "  .colab-df-quickchart:hover {\n",
              "    background-color: var(--hover-bg-color);\n",
              "    box-shadow: 0 1px 2px rgba(60, 64, 67, 0.3), 0 1px 3px 1px rgba(60, 64, 67, 0.15);\n",
              "    fill: var(--button-hover-fill-color);\n",
              "  }\n",
              "\n",
              "  .colab-df-quickchart-complete:disabled,\n",
              "  .colab-df-quickchart-complete:disabled:hover {\n",
              "    background-color: var(--disabled-bg-color);\n",
              "    fill: var(--disabled-fill-color);\n",
              "    box-shadow: none;\n",
              "  }\n",
              "\n",
              "  .colab-df-spinner {\n",
              "    border: 2px solid var(--fill-color);\n",
              "    border-color: transparent;\n",
              "    border-bottom-color: var(--fill-color);\n",
              "    animation:\n",
              "      spin 1s steps(1) infinite;\n",
              "  }\n",
              "\n",
              "  @keyframes spin {\n",
              "    0% {\n",
              "      border-color: transparent;\n",
              "      border-bottom-color: var(--fill-color);\n",
              "      border-left-color: var(--fill-color);\n",
              "    }\n",
              "    20% {\n",
              "      border-color: transparent;\n",
              "      border-left-color: var(--fill-color);\n",
              "      border-top-color: var(--fill-color);\n",
              "    }\n",
              "    30% {\n",
              "      border-color: transparent;\n",
              "      border-left-color: var(--fill-color);\n",
              "      border-top-color: var(--fill-color);\n",
              "      border-right-color: var(--fill-color);\n",
              "    }\n",
              "    40% {\n",
              "      border-color: transparent;\n",
              "      border-right-color: var(--fill-color);\n",
              "      border-top-color: var(--fill-color);\n",
              "    }\n",
              "    60% {\n",
              "      border-color: transparent;\n",
              "      border-right-color: var(--fill-color);\n",
              "    }\n",
              "    80% {\n",
              "      border-color: transparent;\n",
              "      border-right-color: var(--fill-color);\n",
              "      border-bottom-color: var(--fill-color);\n",
              "    }\n",
              "    90% {\n",
              "      border-color: transparent;\n",
              "      border-bottom-color: var(--fill-color);\n",
              "    }\n",
              "  }\n",
              "</style>\n",
              "\n",
              "  <script>\n",
              "    async function quickchart(key) {\n",
              "      const quickchartButtonEl =\n",
              "        document.querySelector('#' + key + ' button');\n",
              "      quickchartButtonEl.disabled = true;  // To prevent multiple clicks.\n",
              "      quickchartButtonEl.classList.add('colab-df-spinner');\n",
              "      try {\n",
              "        const charts = await google.colab.kernel.invokeFunction(\n",
              "            'suggestCharts', [key], {});\n",
              "      } catch (error) {\n",
              "        console.error('Error during call to suggestCharts:', error);\n",
              "      }\n",
              "      quickchartButtonEl.classList.remove('colab-df-spinner');\n",
              "      quickchartButtonEl.classList.add('colab-df-quickchart-complete');\n",
              "    }\n",
              "    (() => {\n",
              "      let quickchartButtonEl =\n",
              "        document.querySelector('#df-f87de1e5-91d3-478d-8fe3-8a3229f9cfe4 button');\n",
              "      quickchartButtonEl.style.display =\n",
              "        google.colab.kernel.accessAllowed ? 'block' : 'none';\n",
              "    })();\n",
              "  </script>\n",
              "</div>\n",
              "    </div>\n",
              "  </div>\n"
            ]
          },
          "metadata": {},
          "execution_count": 5
        }
      ],
      "source": [
        "dataset_path = 'spam-or-not-spam.csv'\n",
        "df = pd.read_csv(dataset_path)\n",
        "df.dropna(inplace=True)\n",
        "df.head()"
      ]
    },
    {
      "cell_type": "markdown",
      "id": "338bc4077682982c",
      "metadata": {
        "collapsed": false,
        "id": "338bc4077682982c"
      },
      "source": [
        "Ensure reproducibility"
      ]
    },
    {
      "cell_type": "code",
      "execution_count": 6,
      "id": "520633f23c163506",
      "metadata": {
        "id": "520633f23c163506",
        "ExecuteTime": {
          "end_time": "2023-10-13T17:30:26.782162Z",
          "start_time": "2023-10-13T17:30:26.776539Z"
        }
      },
      "outputs": [],
      "source": [
        "RANDOM_STATE = 42"
      ]
    },
    {
      "cell_type": "markdown",
      "id": "559825525289bb68",
      "metadata": {
        "collapsed": false,
        "id": "559825525289bb68"
      },
      "source": [
        "Split the dataset into training and test sets"
      ]
    },
    {
      "cell_type": "code",
      "execution_count": 7,
      "id": "b96d3d744e77e201",
      "metadata": {
        "id": "b96d3d744e77e201",
        "ExecuteTime": {
          "end_time": "2023-10-13T17:30:27.895613Z",
          "start_time": "2023-10-13T17:30:27.888066Z"
        }
      },
      "outputs": [],
      "source": [
        "X = df['email']\n",
        "y = df['label']\n",
        "X_train, X_test, y_train, y_test = train_test_split(X, y, test_size=0.25, random_state=RANDOM_STATE)"
      ]
    },
    {
      "cell_type": "markdown",
      "id": "745701a883465cb",
      "metadata": {
        "collapsed": false,
        "id": "745701a883465cb"
      },
      "source": [
        "Text Preprocessing: Lemmatization & Stopwords Removal"
      ]
    },
    {
      "cell_type": "code",
      "execution_count": null,
      "id": "135525060fcaab7a",
      "metadata": {
        "ExecuteTime": {
          "end_time": "2023-10-13T17:30:30.777389Z",
          "start_time": "2023-10-13T17:30:29.917830Z"
        },
        "id": "135525060fcaab7a"
      },
      "outputs": [],
      "source": [
        "nltk.download('wordnet')\n",
        "nltk.download('stopwords')\n",
        "nltk.download('punkt')"
      ]
    },
    {
      "cell_type": "code",
      "execution_count": 9,
      "id": "6eb0a0d41d90fd6c",
      "metadata": {
        "ExecuteTime": {
          "end_time": "2023-10-13T17:30:36.022555Z",
          "start_time": "2023-10-13T17:30:31.942663Z"
        },
        "colab": {
          "base_uri": "https://localhost:8080/"
        },
        "id": "6eb0a0d41d90fd6c",
        "outputId": "3040da4b-9e3d-4d3f-ef56-e417db452609"
      },
      "outputs": [
        {
          "output_type": "stream",
          "name": "stderr",
          "text": [
            "Preprocessing Train Set: 100%|██████████| 2249/2249 [00:20<00:00, 108.11it/s]\n",
            "Preprocessing Test Set: 100%|██████████| 750/750 [00:02<00:00, 298.16it/s]\n"
          ]
        },
        {
          "output_type": "execute_result",
          "data": {
            "text/plain": [
              "1064    title page ha login screen seem get apt index ...\n",
              "662     thu number sep number mr fork wrote think went...\n",
              "480     recently stumbled across content journal elect...\n",
              "2136    url url date number number numbertnumber numbe...\n",
              "2702    help find fund ltc alternative marketing agent...\n",
              "dtype: object"
            ]
          },
          "metadata": {},
          "execution_count": 9
        }
      ],
      "source": [
        "lemmatizer = WordNetLemmatizer()\n",
        "stop_words = stopwords.words('english')\n",
        "\n",
        "def preprocess_text(text):\n",
        "    tokens = word_tokenize(text.lower())\n",
        "    tokens = [lemmatizer.lemmatize(word) for word in tokens if word.isalnum()]\n",
        "    tokens = [word for word in tokens if word not in stop_words]\n",
        "    return ' '.join(tokens)\n",
        "\n",
        "X_train_preprocessed = pd.Series(dtype='object')\n",
        "X_test_preprocessed = pd.Series(dtype='object')\n",
        "\n",
        "for index, content in tqdm(X_train.items(), total=X_train.shape[0], desc='Preprocessing Train Set'):\n",
        "    X_train_preprocessed.at[index] = preprocess_text(content)\n",
        "\n",
        "for index, content in tqdm(X_test.items(), total=X_test.shape[0], desc='Preprocessing Test Set'):\n",
        "    X_test_preprocessed.at[index] = preprocess_text(content)\n",
        "\n",
        "X_train_preprocessed.head()"
      ]
    },
    {
      "cell_type": "markdown",
      "id": "a0fdf0118ab29b46",
      "metadata": {
        "collapsed": false,
        "id": "a0fdf0118ab29b46"
      },
      "source": [
        "# Vectorization"
      ]
    },
    {
      "cell_type": "markdown",
      "id": "a0e6457eaae071c6",
      "metadata": {
        "collapsed": false,
        "id": "a0e6457eaae071c6"
      },
      "source": [
        "Word2Vec Vectorization (SkipGram & CBOW)"
      ]
    },
    {
      "cell_type": "code",
      "execution_count": 10,
      "outputs": [],
      "source": [
        "worker_num=1 # for reproducibility of results"
      ],
      "metadata": {
        "id": "2bc91204ac8dd3e7"
      },
      "id": "2bc91204ac8dd3e7"
    },
    {
      "cell_type": "code",
      "execution_count": 11,
      "id": "677eed780afd3d55",
      "metadata": {
        "ExecuteTime": {
          "end_time": "2023-10-13T17:30:42.081650Z",
          "start_time": "2023-10-13T17:30:39.258383Z"
        },
        "id": "677eed780afd3d55"
      },
      "outputs": [],
      "source": [
        "word2vec_sg = Word2Vec(sentences=[sentence.split() for sentence in X_train_preprocessed], vector_size=100, window=5, sg=1, min_count=1, workers=worker_num, seed=RANDOM_STATE)\n",
        "word2vec_cbow = Word2Vec(sentences=[sentence.split() for sentence in X_train_preprocessed], vector_size=100, window=5, sg=0, min_count=1, workers=worker_num, seed=RANDOM_STATE)"
      ]
    },
    {
      "cell_type": "markdown",
      "id": "2e2b34368c219832",
      "metadata": {
        "collapsed": false,
        "id": "2e2b34368c219832"
      },
      "source": [
        "FastText Vectorization"
      ]
    },
    {
      "cell_type": "code",
      "execution_count": 12,
      "id": "bd5658caec161993",
      "metadata": {
        "ExecuteTime": {
          "end_time": "2023-10-13T17:30:49.432682Z",
          "start_time": "2023-10-13T17:30:42.956192Z"
        },
        "id": "bd5658caec161993"
      },
      "outputs": [],
      "source": [
        "fasttext_model = FastText(sentences=[sentence.split() for sentence in X_train_preprocessed], vector_size=100, window=5, min_count=1, workers=worker_num, seed=RANDOM_STATE)"
      ]
    },
    {
      "cell_type": "markdown",
      "source": [
        "Create Sentence Vectors for Training and Test Sets"
      ],
      "metadata": {
        "collapsed": false,
        "id": "71951dc1847817f5"
      },
      "id": "71951dc1847817f5"
    },
    {
      "cell_type": "code",
      "execution_count": 14,
      "id": "eef0eda4a5022eb0",
      "metadata": {
        "ExecuteTime": {
          "end_time": "2023-10-13T17:30:57.675345Z",
          "start_time": "2023-10-13T17:30:56.161482Z"
        },
        "colab": {
          "base_uri": "https://localhost:8080/"
        },
        "id": "eef0eda4a5022eb0",
        "outputId": "ce801e53-1a51-4f64-abfc-0c839029c502"
      },
      "outputs": [
        {
          "output_type": "stream",
          "name": "stderr",
          "text": [
            "Vectorizing with Word2Vec SG: 100%|██████████| 2249/2249 [00:02<00:00, 964.72it/s]\n",
            "Vectorizing with Word2Vec CBOW: 100%|██████████| 2249/2249 [00:04<00:00, 503.31it/s]\n",
            "Vectorizing with FastText: 100%|██████████| 2249/2249 [00:05<00:00, 427.39it/s]\n",
            "Vectorizing with Word2Vec SG: 100%|██████████| 750/750 [00:01<00:00, 493.02it/s]\n",
            "Vectorizing with Word2Vec CBOW: 100%|██████████| 750/750 [00:01<00:00, 631.02it/s]\n",
            "Vectorizing with FastText: 100%|██████████| 750/750 [00:01<00:00, 581.51it/s]\n"
          ]
        }
      ],
      "source": [
        "def sentence_vector(sentence, model):\n",
        "    words = sentence.split()\n",
        "    word_vectors = [model.wv[word] for word in words if word in model.wv]\n",
        "\n",
        "    if len(word_vectors) == 0:\n",
        "        return np.zeros(model.vector_size)\n",
        "\n",
        "    word_vectors = np.array(word_vectors)\n",
        "\n",
        "    return word_vectors.mean(axis=0)\n",
        "\n",
        "# Create sentence vectors for the training set\n",
        "X_train_sg = np.array([sentence_vector(sentence, word2vec_sg) for sentence in tqdm(X_train_preprocessed, desc='Vectorizing with Word2Vec SG')])\n",
        "X_train_cbow = np.array([sentence_vector(sentence, word2vec_cbow) for sentence in tqdm(X_train_preprocessed, desc='Vectorizing with Word2Vec CBOW')])\n",
        "X_train_ft = np.array([sentence_vector(sentence, fasttext_model) for sentence in tqdm(X_train_preprocessed, desc='Vectorizing with FastText')])\n",
        "\n",
        "# Create sentence vectors for the test set\n",
        "X_test_sg = np.array([sentence_vector(sentence, word2vec_sg) for sentence in tqdm(X_test_preprocessed, desc='Vectorizing with Word2Vec SG')])\n",
        "X_test_cbow = np.array([sentence_vector(sentence, word2vec_cbow) for sentence in tqdm(X_test_preprocessed, desc='Vectorizing with Word2Vec CBOW')])\n",
        "X_test_ft = np.array([sentence_vector(sentence, fasttext_model) for sentence in tqdm(X_test_preprocessed, desc='Vectorizing with FastText')])"
      ]
    },
    {
      "cell_type": "markdown",
      "id": "c6bcea4a732bb16c",
      "metadata": {
        "collapsed": false,
        "id": "c6bcea4a732bb16c"
      },
      "source": [
        "# Logistic Regression Training"
      ]
    },
    {
      "cell_type": "code",
      "execution_count": 15,
      "id": "4f7d8c0b6136fc21",
      "metadata": {
        "ExecuteTime": {
          "end_time": "2023-10-13T17:31:06.015634Z",
          "start_time": "2023-10-13T17:31:05.889592Z"
        },
        "id": "4f7d8c0b6136fc21"
      },
      "outputs": [],
      "source": [
        "lr_sg = LogisticRegression(max_iter=1000, random_state=RANDOM_STATE)\n",
        "lr_cbow = LogisticRegression(max_iter=1000, random_state=RANDOM_STATE)\n",
        "lr_ft = LogisticRegression(max_iter=1000, random_state=RANDOM_STATE)\n",
        "\n",
        "lr_sg.fit(X_train_sg, y_train)\n",
        "y_pred_sg = lr_sg.predict(X_test_sg)\n",
        "accuracy_sg = accuracy_score(y_test, y_pred_sg)\n",
        "\n",
        "lr_cbow.fit(X_train_cbow, y_train)\n",
        "y_pred_cbow = lr_cbow.predict(X_test_cbow)\n",
        "accuracy_cbow = accuracy_score(y_test, y_pred_cbow)\n",
        "\n",
        "lr_ft.fit(X_train_ft, y_train)\n",
        "y_pred_ft = lr_ft.predict(X_test_ft)\n",
        "accuracy_ft = accuracy_score(y_test, y_pred_ft)"
      ]
    },
    {
      "cell_type": "markdown",
      "id": "b2311179dbb6c2e",
      "metadata": {
        "collapsed": false,
        "id": "b2311179dbb6c2e"
      },
      "source": [
        "Output Statistics"
      ]
    },
    {
      "cell_type": "code",
      "execution_count": 16,
      "id": "19166ff21bd71c48",
      "metadata": {
        "ExecuteTime": {
          "end_time": "2023-10-13T17:31:08.407388Z",
          "start_time": "2023-10-13T17:31:08.403278Z"
        },
        "colab": {
          "base_uri": "https://localhost:8080/"
        },
        "id": "19166ff21bd71c48",
        "outputId": "fb82fc62-3f69-48b5-87db-9e3823adaa1c"
      },
      "outputs": [
        {
          "output_type": "stream",
          "name": "stdout",
          "text": [
            "Evaluation Statistics\n",
            "----------------------\n",
            "Word2Vec SkipGram Accuracy: 97.07%\n",
            "Word2Vec CBOW Accuracy: 96.27%\n",
            "FastText Accuracy: 95.87%\n"
          ]
        }
      ],
      "source": [
        "print(\"Evaluation Statistics\")\n",
        "print(\"----------------------\")\n",
        "\n",
        "print(f\"Word2Vec SkipGram Accuracy: {accuracy_sg * 100:.2f}%\")\n",
        "print(f\"Word2Vec CBOW Accuracy: {accuracy_cbow * 100:.2f}%\")\n",
        "print(f\"FastText Accuracy: {accuracy_ft * 100:.2f}%\")"
      ]
    },
    {
      "cell_type": "markdown",
      "source": [
        "# Intrinsic evaluation"
      ],
      "metadata": {
        "collapsed": false,
        "id": "49c072bc459b4a04"
      },
      "id": "49c072bc459b4a04"
    },
    {
      "cell_type": "markdown",
      "id": "b19152f3cb174b31",
      "metadata": {
        "collapsed": false,
        "id": "b19152f3cb174b31"
      },
      "source": [
        "Intrinsic evaluation using most_similar and doesnt_match methods for Word2Vec SkipGram"
      ]
    },
    {
      "cell_type": "code",
      "execution_count": 17,
      "id": "af230ee0e9b0c5f",
      "metadata": {
        "ExecuteTime": {
          "end_time": "2023-10-13T17:31:25.097167Z",
          "start_time": "2023-10-13T17:31:25.060939Z"
        },
        "colab": {
          "base_uri": "https://localhost:8080/"
        },
        "id": "af230ee0e9b0c5f",
        "outputId": "73e5399b-4d1f-4e20-c287-74b2e7356676"
      },
      "outputs": [
        {
          "output_type": "stream",
          "name": "stdout",
          "text": [
            "Words most similar to 'email' according to Word2Vec SkipGram:\n",
            "  assignee: 0.8037\n",
            "  watching: 0.7937\n",
            "  sending: 0.7875\n",
            "  strongly: 0.7853\n",
            "  opt: 0.7840\n",
            "  unsolicited: 0.7805\n",
            "  tesrewinter: 0.7780\n",
            "  dump: 0.7747\n",
            "  sponsored: 0.7742\n",
            "  obtained: 0.7738\n",
            "\n",
            "\n",
            "Word that doesn't match in the list ['email', 'spam', 'inbox'] according to Word2Vec SkipGram: email\n"
          ]
        }
      ],
      "source": [
        "most_similar_sg = word2vec_sg.wv.most_similar('email')\n",
        "print(\"Words most similar to 'email' according to Word2Vec SkipGram:\")\n",
        "for word, similarity in most_similar_sg:\n",
        "    print(f\"  {word}: {similarity:.4f}\")\n",
        "\n",
        "print(\"\\n\")\n",
        "\n",
        "doesnt_match_sg = word2vec_sg.wv.doesnt_match('email spam inbox'.split())\n",
        "print(f\"Word that doesn't match in the list ['email', 'spam', 'inbox'] according to Word2Vec SkipGram: {doesnt_match_sg}\")\n"
      ]
    },
    {
      "cell_type": "markdown",
      "id": "705085fc9bee2f62",
      "metadata": {
        "collapsed": false,
        "id": "705085fc9bee2f62"
      },
      "source": [
        "Intrinsic evaluation for Word2Vec CBOW"
      ]
    },
    {
      "cell_type": "code",
      "execution_count": 18,
      "id": "919636885f33216",
      "metadata": {
        "ExecuteTime": {
          "end_time": "2023-10-13T17:53:33.618172Z",
          "start_time": "2023-10-13T17:53:33.535720Z"
        },
        "colab": {
          "base_uri": "https://localhost:8080/"
        },
        "id": "919636885f33216",
        "outputId": "f0a3ea6a-55da-43b9-c0d5-7b8a173f5e73"
      },
      "outputs": [
        {
          "output_type": "stream",
          "name": "stdout",
          "text": [
            "Words most similar to 'email' according to Word2Vec CBOW:\n",
            "  unsolicited: 0.9645\n",
            "  sponsored: 0.9605\n",
            "  thinkgeek: 0.9584\n",
            "  targeted: 0.9553\n",
            "  unsubscribe: 0.9549\n",
            "  remove: 0.9510\n",
            "  address: 0.9475\n",
            "  send: 0.9472\n",
            "  reply: 0.9468\n",
            "  responsevivek: 0.9463\n",
            "\n",
            "\n",
            "Word that doesn't match in the list ['email', 'spam', 'inbox'] according to Word2Vec CBOW: email\n"
          ]
        }
      ],
      "source": [
        "most_similar_cbow = word2vec_cbow.wv.most_similar('email')\n",
        "print(\"Words most similar to 'email' according to Word2Vec CBOW:\")\n",
        "for word, similarity in most_similar_cbow:\n",
        "    print(f\"  {word}: {similarity:.4f}\")\n",
        "\n",
        "print(\"\\n\")\n",
        "\n",
        "doesnt_match_cbow = word2vec_cbow.wv.doesnt_match('email spam inbox'.split())\n",
        "print(f\"Word that doesn't match in the list ['email', 'spam', 'inbox'] according to Word2Vec CBOW: {doesnt_match_cbow}\")\n"
      ]
    },
    {
      "cell_type": "markdown",
      "id": "93448e89c408571d",
      "metadata": {
        "collapsed": false,
        "id": "93448e89c408571d"
      },
      "source": [
        "Intrinsic evaluation for fastText"
      ]
    },
    {
      "cell_type": "code",
      "execution_count": 19,
      "id": "a5eeb4de8f49d2af",
      "metadata": {
        "ExecuteTime": {
          "end_time": "2023-10-13T17:53:23.756052Z",
          "start_time": "2023-10-13T17:53:23.664874Z"
        },
        "colab": {
          "base_uri": "https://localhost:8080/"
        },
        "id": "a5eeb4de8f49d2af",
        "outputId": "94dd0edc-cfb9-4bff-f37d-49d6f911ab60"
      },
      "outputs": [
        {
          "output_type": "stream",
          "name": "stdout",
          "text": [
            "Words most similar to 'email' according to fastText:\n",
            "  nail: 0.9933\n",
            "  sendmail: 0.9932\n",
            "  rmail: 0.9927\n",
            "  snail: 0.9925\n",
            "  omail: 0.9923\n",
            "  qmail: 0.9902\n",
            "  msmail: 0.9896\n",
            "  emailer: 0.9896\n",
            "  bmail: 0.9895\n",
            "  jail: 0.9895\n",
            "\n",
            "\n",
            "Word that doesn't match in the list ['email', 'spam', 'inbox'] according to fastText: inbox\n"
          ]
        }
      ],
      "source": [
        "most_similar_ft = fasttext_model.wv.most_similar('email')\n",
        "print(\"Words most similar to 'email' according to fastText:\")\n",
        "for word, similarity in most_similar_ft:\n",
        "    print(f\"  {word}: {similarity:.4f}\")\n",
        "\n",
        "print(\"\\n\")\n",
        "\n",
        "doesnt_match_ft = fasttext_model.wv.doesnt_match('email spam inbox'.split())\n",
        "print(f\"Word that doesn't match in the list ['email', 'spam', 'inbox'] according to fastText: {doesnt_match_ft}\")\n"
      ]
    }
  ],
  "metadata": {
    "colab": {
      "provenance": []
    },
    "kernelspec": {
      "display_name": "Python 3",
      "name": "python3"
    },
    "language_info": {
      "codemirror_mode": {
        "name": "ipython",
        "version": 3
      },
      "file_extension": ".py",
      "mimetype": "text/x-python",
      "name": "python",
      "nbconvert_exporter": "python",
      "pygments_lexer": "ipython3",
      "version": "3.10.9"
    }
  },
  "nbformat": 4,
  "nbformat_minor": 5
}