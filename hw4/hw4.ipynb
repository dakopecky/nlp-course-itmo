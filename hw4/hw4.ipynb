{
  "cells": [
    {
      "cell_type": "markdown",
      "metadata": {
        "id": "kOyTYZgsq035"
      },
      "source": [
        "# Dependency Installation and Repository Cloning"
      ],
      "id": "kOyTYZgsq035"
    },
    {
      "cell_type": "markdown",
      "metadata": {
        "id": "bIgHW9Muv5Ad"
      },
      "source": [
        "### Run it if you're using this notebook in Google Colab"
      ],
      "id": "bIgHW9Muv5Ad"
    },
    {
      "cell_type": "code",
      "execution_count": null,
      "metadata": {
        "id": "n2pvOkxAtnM4"
      },
      "outputs": [],
      "source": [
        "!git clone 'https://github.com/dakopecky/nlp-course-itmo.git'\n",
        "\n",
        "%cd nlp-course-itmo\n",
        "!git checkout hw4\n",
        "%cd hw4\n",
        "\n",
        "!pip install poetry\n",
        "!poetry remove torch\n",
        "!poetry config virtualenvs.create false\n",
        "!poetry install --no-ansi"
      ],
      "id": "n2pvOkxAtnM4"
    },
    {
      "cell_type": "markdown",
      "metadata": {
        "id": "HRWriMo2u41c"
      },
      "source": [
        "# Realization of classification"
      ],
      "id": "HRWriMo2u41c"
    },
    {
      "cell_type": "markdown",
      "metadata": {
        "collapsed": false,
        "id": "dca1d5278cf61bad"
      },
      "source": [
        "Import deps"
      ],
      "id": "dca1d5278cf61bad"
    },
    {
      "cell_type": "code",
      "execution_count": 9,
      "metadata": {
        "id": "309681695a20c267"
      },
      "outputs": [],
      "source": [
        "# This code includes software developed by the following open-source projects:\n",
        "# - nltk (License: Apache License 2.0, Authors: Steven Bird, Edward Loper, Ewan Klein)\n",
        "# - gensim (License: LGPL-2.1 License, Authors: Radim Rehurek, Petr Sojka and Gensim Contributors)\n",
        "# - numpy (License: BSD-3-Clause license, Authors: NumPy Developers)\n",
        "# - Pandas (License: BSD-3-Clause License, Authors: Pandas Development Team)\n",
        "# - tqdm (License: MIT License, Authors: Noam Yorav-Raphael)\n",
        "# - scikit-learn (License: BSD License, Authors: scikit-learn Developers)\n",
        "# - PyTorch (License: Custom License, Authors: Facebook, Inc, Adam Paszke, Soumith Chintala, Ronan Collobert, Koray Kavukcuoglu, Clement Farabet, and other contributors)\n",
        "# - Jupyter Notebook (License: Modified BSD License, Authors: Project Jupyter)\n",
        "# For the full license information, please see the `licenses` directory.\n",
        "\n",
        "import numpy as np\n",
        "import pandas as pd\n",
        "\n",
        "import re\n",
        "from gensim.models import Word2Vec\n",
        "import nltk\n",
        "from nltk.tokenize import word_tokenize\n",
        "\n",
        "import torch\n",
        "import torch.nn as nn\n",
        "import torch.optim as optim\n",
        "from torch.utils.data import DataLoader, TensorDataset\n",
        "from tqdm import tqdm\n",
        "\n",
        "from sklearn.model_selection import train_test_split\n",
        "from sklearn.metrics import accuracy_score, precision_score, recall_score, f1_score"
      ],
      "id": "309681695a20c267"
    },
    {
      "cell_type": "markdown",
      "metadata": {
        "collapsed": false,
        "id": "dcae3b8b511680c9"
      },
      "source": [
        "Download the \"Fake and real news\" dataset"
      ],
      "id": "dcae3b8b511680c9"
    },
    {
      "cell_type": "code",
      "execution_count": 3,
      "metadata": {
        "id": "bf3ca4807ca0c69d"
      },
      "outputs": [],
      "source": [
        "!wget -q 'https://www.dropbox.com/scl/fi/ywll03cyd4e95ztcbe3gn/Fake.csv?rlkey=ucfg2ztrv8ub7w4yd6gx259p2&dl=1' -O 'Fake.csv'\n",
        "!wget -q 'https://www.dropbox.com/scl/fi/fiwo2lnbd1y8ywvas12jd/True.csv?rlkey=5fxgepi5uvd4sr9y0tk46aw5o&dl=1' -O 'True.csv'"
      ],
      "id": "bf3ca4807ca0c69d"
    },
    {
      "cell_type": "markdown",
      "metadata": {
        "collapsed": false,
        "id": "caa8c48635babfc6"
      },
      "source": [
        "Define random state for reproducing"
      ],
      "id": "caa8c48635babfc6"
    },
    {
      "cell_type": "code",
      "execution_count": null,
      "metadata": {
        "id": "c60f92f7e4f767ea"
      },
      "outputs": [],
      "source": [
        "RANDOM_STATE = 42\n",
        "torch.manual_seed(RANDOM_STATE)"
      ],
      "id": "c60f92f7e4f767ea"
    },
    {
      "cell_type": "markdown",
      "metadata": {
        "collapsed": false,
        "id": "a3d3487c8f0b0826"
      },
      "source": [
        "## Load the dataset"
      ],
      "id": "a3d3487c8f0b0826"
    },
    {
      "cell_type": "code",
      "execution_count": 5,
      "metadata": {
        "id": "d16650c7798ffb08",
        "outputId": "e828d276-5804-4c72-c6ab-48867e9f9882",
        "colab": {
          "base_uri": "https://localhost:8080/",
          "height": 204
        }
      },
      "outputs": [
        {
          "output_type": "execute_result",
          "data": {
            "text/plain": [
              "                                               title  \\\n",
              "0   Donald Trump Sends Out Embarrassing New Year’...   \n",
              "1   Drunk Bragging Trump Staffer Started Russian ...   \n",
              "2   Sheriff David Clarke Becomes An Internet Joke...   \n",
              "3   Trump Is So Obsessed He Even Has Obama’s Name...   \n",
              "4   Pope Francis Just Called Out Donald Trump Dur...   \n",
              "\n",
              "                                                text subject  \\\n",
              "0  Donald Trump just couldn t wish all Americans ...    News   \n",
              "1  House Intelligence Committee Chairman Devin Nu...    News   \n",
              "2  On Friday, it was revealed that former Milwauk...    News   \n",
              "3  On Christmas day, Donald Trump announced that ...    News   \n",
              "4  Pope Francis used his annual Christmas Day mes...    News   \n",
              "\n",
              "                date  label  \n",
              "0  December 31, 2017      0  \n",
              "1  December 31, 2017      0  \n",
              "2  December 30, 2017      0  \n",
              "3  December 29, 2017      0  \n",
              "4  December 25, 2017      0  "
            ],
            "text/html": [
              "\n",
              "  <div id=\"df-bee62f25-69ae-464d-ad08-e22cc143bc23\" class=\"colab-df-container\">\n",
              "    <div>\n",
              "<style scoped>\n",
              "    .dataframe tbody tr th:only-of-type {\n",
              "        vertical-align: middle;\n",
              "    }\n",
              "\n",
              "    .dataframe tbody tr th {\n",
              "        vertical-align: top;\n",
              "    }\n",
              "\n",
              "    .dataframe thead th {\n",
              "        text-align: right;\n",
              "    }\n",
              "</style>\n",
              "<table border=\"1\" class=\"dataframe\">\n",
              "  <thead>\n",
              "    <tr style=\"text-align: right;\">\n",
              "      <th></th>\n",
              "      <th>title</th>\n",
              "      <th>text</th>\n",
              "      <th>subject</th>\n",
              "      <th>date</th>\n",
              "      <th>label</th>\n",
              "    </tr>\n",
              "  </thead>\n",
              "  <tbody>\n",
              "    <tr>\n",
              "      <th>0</th>\n",
              "      <td>Donald Trump Sends Out Embarrassing New Year’...</td>\n",
              "      <td>Donald Trump just couldn t wish all Americans ...</td>\n",
              "      <td>News</td>\n",
              "      <td>December 31, 2017</td>\n",
              "      <td>0</td>\n",
              "    </tr>\n",
              "    <tr>\n",
              "      <th>1</th>\n",
              "      <td>Drunk Bragging Trump Staffer Started Russian ...</td>\n",
              "      <td>House Intelligence Committee Chairman Devin Nu...</td>\n",
              "      <td>News</td>\n",
              "      <td>December 31, 2017</td>\n",
              "      <td>0</td>\n",
              "    </tr>\n",
              "    <tr>\n",
              "      <th>2</th>\n",
              "      <td>Sheriff David Clarke Becomes An Internet Joke...</td>\n",
              "      <td>On Friday, it was revealed that former Milwauk...</td>\n",
              "      <td>News</td>\n",
              "      <td>December 30, 2017</td>\n",
              "      <td>0</td>\n",
              "    </tr>\n",
              "    <tr>\n",
              "      <th>3</th>\n",
              "      <td>Trump Is So Obsessed He Even Has Obama’s Name...</td>\n",
              "      <td>On Christmas day, Donald Trump announced that ...</td>\n",
              "      <td>News</td>\n",
              "      <td>December 29, 2017</td>\n",
              "      <td>0</td>\n",
              "    </tr>\n",
              "    <tr>\n",
              "      <th>4</th>\n",
              "      <td>Pope Francis Just Called Out Donald Trump Dur...</td>\n",
              "      <td>Pope Francis used his annual Christmas Day mes...</td>\n",
              "      <td>News</td>\n",
              "      <td>December 25, 2017</td>\n",
              "      <td>0</td>\n",
              "    </tr>\n",
              "  </tbody>\n",
              "</table>\n",
              "</div>\n",
              "    <div class=\"colab-df-buttons\">\n",
              "\n",
              "  <div class=\"colab-df-container\">\n",
              "    <button class=\"colab-df-convert\" onclick=\"convertToInteractive('df-bee62f25-69ae-464d-ad08-e22cc143bc23')\"\n",
              "            title=\"Convert this dataframe to an interactive table.\"\n",
              "            style=\"display:none;\">\n",
              "\n",
              "  <svg xmlns=\"http://www.w3.org/2000/svg\" height=\"24px\" viewBox=\"0 -960 960 960\">\n",
              "    <path d=\"M120-120v-720h720v720H120Zm60-500h600v-160H180v160Zm220 220h160v-160H400v160Zm0 220h160v-160H400v160ZM180-400h160v-160H180v160Zm440 0h160v-160H620v160ZM180-180h160v-160H180v160Zm440 0h160v-160H620v160Z\"/>\n",
              "  </svg>\n",
              "    </button>\n",
              "\n",
              "  <style>\n",
              "    .colab-df-container {\n",
              "      display:flex;\n",
              "      gap: 12px;\n",
              "    }\n",
              "\n",
              "    .colab-df-convert {\n",
              "      background-color: #E8F0FE;\n",
              "      border: none;\n",
              "      border-radius: 50%;\n",
              "      cursor: pointer;\n",
              "      display: none;\n",
              "      fill: #1967D2;\n",
              "      height: 32px;\n",
              "      padding: 0 0 0 0;\n",
              "      width: 32px;\n",
              "    }\n",
              "\n",
              "    .colab-df-convert:hover {\n",
              "      background-color: #E2EBFA;\n",
              "      box-shadow: 0px 1px 2px rgba(60, 64, 67, 0.3), 0px 1px 3px 1px rgba(60, 64, 67, 0.15);\n",
              "      fill: #174EA6;\n",
              "    }\n",
              "\n",
              "    .colab-df-buttons div {\n",
              "      margin-bottom: 4px;\n",
              "    }\n",
              "\n",
              "    [theme=dark] .colab-df-convert {\n",
              "      background-color: #3B4455;\n",
              "      fill: #D2E3FC;\n",
              "    }\n",
              "\n",
              "    [theme=dark] .colab-df-convert:hover {\n",
              "      background-color: #434B5C;\n",
              "      box-shadow: 0px 1px 3px 1px rgba(0, 0, 0, 0.15);\n",
              "      filter: drop-shadow(0px 1px 2px rgba(0, 0, 0, 0.3));\n",
              "      fill: #FFFFFF;\n",
              "    }\n",
              "  </style>\n",
              "\n",
              "    <script>\n",
              "      const buttonEl =\n",
              "        document.querySelector('#df-bee62f25-69ae-464d-ad08-e22cc143bc23 button.colab-df-convert');\n",
              "      buttonEl.style.display =\n",
              "        google.colab.kernel.accessAllowed ? 'block' : 'none';\n",
              "\n",
              "      async function convertToInteractive(key) {\n",
              "        const element = document.querySelector('#df-bee62f25-69ae-464d-ad08-e22cc143bc23');\n",
              "        const dataTable =\n",
              "          await google.colab.kernel.invokeFunction('convertToInteractive',\n",
              "                                                    [key], {});\n",
              "        if (!dataTable) return;\n",
              "\n",
              "        const docLinkHtml = 'Like what you see? Visit the ' +\n",
              "          '<a target=\"_blank\" href=https://colab.research.google.com/notebooks/data_table.ipynb>data table notebook</a>'\n",
              "          + ' to learn more about interactive tables.';\n",
              "        element.innerHTML = '';\n",
              "        dataTable['output_type'] = 'display_data';\n",
              "        await google.colab.output.renderOutput(dataTable, element);\n",
              "        const docLink = document.createElement('div');\n",
              "        docLink.innerHTML = docLinkHtml;\n",
              "        element.appendChild(docLink);\n",
              "      }\n",
              "    </script>\n",
              "  </div>\n",
              "\n",
              "\n",
              "<div id=\"df-ce035be6-4769-4232-be7a-8571cf78ebdf\">\n",
              "  <button class=\"colab-df-quickchart\" onclick=\"quickchart('df-ce035be6-4769-4232-be7a-8571cf78ebdf')\"\n",
              "            title=\"Suggest charts.\"\n",
              "            style=\"display:none;\">\n",
              "\n",
              "<svg xmlns=\"http://www.w3.org/2000/svg\" height=\"24px\"viewBox=\"0 0 24 24\"\n",
              "     width=\"24px\">\n",
              "    <g>\n",
              "        <path d=\"M19 3H5c-1.1 0-2 .9-2 2v14c0 1.1.9 2 2 2h14c1.1 0 2-.9 2-2V5c0-1.1-.9-2-2-2zM9 17H7v-7h2v7zm4 0h-2V7h2v10zm4 0h-2v-4h2v4z\"/>\n",
              "    </g>\n",
              "</svg>\n",
              "  </button>\n",
              "\n",
              "<style>\n",
              "  .colab-df-quickchart {\n",
              "      --bg-color: #E8F0FE;\n",
              "      --fill-color: #1967D2;\n",
              "      --hover-bg-color: #E2EBFA;\n",
              "      --hover-fill-color: #174EA6;\n",
              "      --disabled-fill-color: #AAA;\n",
              "      --disabled-bg-color: #DDD;\n",
              "  }\n",
              "\n",
              "  [theme=dark] .colab-df-quickchart {\n",
              "      --bg-color: #3B4455;\n",
              "      --fill-color: #D2E3FC;\n",
              "      --hover-bg-color: #434B5C;\n",
              "      --hover-fill-color: #FFFFFF;\n",
              "      --disabled-bg-color: #3B4455;\n",
              "      --disabled-fill-color: #666;\n",
              "  }\n",
              "\n",
              "  .colab-df-quickchart {\n",
              "    background-color: var(--bg-color);\n",
              "    border: none;\n",
              "    border-radius: 50%;\n",
              "    cursor: pointer;\n",
              "    display: none;\n",
              "    fill: var(--fill-color);\n",
              "    height: 32px;\n",
              "    padding: 0;\n",
              "    width: 32px;\n",
              "  }\n",
              "\n",
              "  .colab-df-quickchart:hover {\n",
              "    background-color: var(--hover-bg-color);\n",
              "    box-shadow: 0 1px 2px rgba(60, 64, 67, 0.3), 0 1px 3px 1px rgba(60, 64, 67, 0.15);\n",
              "    fill: var(--button-hover-fill-color);\n",
              "  }\n",
              "\n",
              "  .colab-df-quickchart-complete:disabled,\n",
              "  .colab-df-quickchart-complete:disabled:hover {\n",
              "    background-color: var(--disabled-bg-color);\n",
              "    fill: var(--disabled-fill-color);\n",
              "    box-shadow: none;\n",
              "  }\n",
              "\n",
              "  .colab-df-spinner {\n",
              "    border: 2px solid var(--fill-color);\n",
              "    border-color: transparent;\n",
              "    border-bottom-color: var(--fill-color);\n",
              "    animation:\n",
              "      spin 1s steps(1) infinite;\n",
              "  }\n",
              "\n",
              "  @keyframes spin {\n",
              "    0% {\n",
              "      border-color: transparent;\n",
              "      border-bottom-color: var(--fill-color);\n",
              "      border-left-color: var(--fill-color);\n",
              "    }\n",
              "    20% {\n",
              "      border-color: transparent;\n",
              "      border-left-color: var(--fill-color);\n",
              "      border-top-color: var(--fill-color);\n",
              "    }\n",
              "    30% {\n",
              "      border-color: transparent;\n",
              "      border-left-color: var(--fill-color);\n",
              "      border-top-color: var(--fill-color);\n",
              "      border-right-color: var(--fill-color);\n",
              "    }\n",
              "    40% {\n",
              "      border-color: transparent;\n",
              "      border-right-color: var(--fill-color);\n",
              "      border-top-color: var(--fill-color);\n",
              "    }\n",
              "    60% {\n",
              "      border-color: transparent;\n",
              "      border-right-color: var(--fill-color);\n",
              "    }\n",
              "    80% {\n",
              "      border-color: transparent;\n",
              "      border-right-color: var(--fill-color);\n",
              "      border-bottom-color: var(--fill-color);\n",
              "    }\n",
              "    90% {\n",
              "      border-color: transparent;\n",
              "      border-bottom-color: var(--fill-color);\n",
              "    }\n",
              "  }\n",
              "</style>\n",
              "\n",
              "  <script>\n",
              "    async function quickchart(key) {\n",
              "      const quickchartButtonEl =\n",
              "        document.querySelector('#' + key + ' button');\n",
              "      quickchartButtonEl.disabled = true;  // To prevent multiple clicks.\n",
              "      quickchartButtonEl.classList.add('colab-df-spinner');\n",
              "      try {\n",
              "        const charts = await google.colab.kernel.invokeFunction(\n",
              "            'suggestCharts', [key], {});\n",
              "      } catch (error) {\n",
              "        console.error('Error during call to suggestCharts:', error);\n",
              "      }\n",
              "      quickchartButtonEl.classList.remove('colab-df-spinner');\n",
              "      quickchartButtonEl.classList.add('colab-df-quickchart-complete');\n",
              "    }\n",
              "    (() => {\n",
              "      let quickchartButtonEl =\n",
              "        document.querySelector('#df-ce035be6-4769-4232-be7a-8571cf78ebdf button');\n",
              "      quickchartButtonEl.style.display =\n",
              "        google.colab.kernel.accessAllowed ? 'block' : 'none';\n",
              "    })();\n",
              "  </script>\n",
              "</div>\n",
              "    </div>\n",
              "  </div>\n"
            ]
          },
          "metadata": {},
          "execution_count": 5
        }
      ],
      "source": [
        "fake_news_df = pd.read_csv('Fake.csv')\n",
        "true_news_df = pd.read_csv('True.csv')\n",
        "\n",
        "fake_news_df['label'] = 0\n",
        "true_news_df['label'] = 1\n",
        "\n",
        "news_df = pd.concat([fake_news_df, true_news_df], ignore_index=True)\n",
        "\n",
        "news_df.head()"
      ],
      "id": "d16650c7798ffb08"
    },
    {
      "cell_type": "markdown",
      "metadata": {
        "collapsed": false,
        "id": "2b39cd946cea522b"
      },
      "source": [
        "## Preprocessing and Vectorization"
      ],
      "id": "2b39cd946cea522b"
    },
    {
      "cell_type": "markdown",
      "metadata": {
        "collapsed": false,
        "id": "db8e9269d92f6a2b"
      },
      "source": [
        "Clean"
      ],
      "id": "db8e9269d92f6a2b"
    },
    {
      "cell_type": "code",
      "source": [
        "nltk.download('punkt')"
      ],
      "metadata": {
        "id": "DKv3sW9Hqt-t"
      },
      "id": "DKv3sW9Hqt-t",
      "execution_count": null,
      "outputs": []
    },
    {
      "cell_type": "code",
      "execution_count": 11,
      "metadata": {
        "id": "3187e34e60ad33b4"
      },
      "outputs": [],
      "source": [
        "news_df['full_text'] = news_df['title'] + ' ' + news_df['text']\n",
        "\n",
        "def clean_and_tokenize(text):\n",
        "    text = text.lower()\n",
        "    text = re.sub(r'[^\\w\\s]', '', text)\n",
        "\n",
        "    tokens = word_tokenize(text)\n",
        "    return tokens\n",
        "\n",
        "news_df['tokenized_text'] = news_df['full_text'].apply(clean_and_tokenize)"
      ],
      "id": "3187e34e60ad33b4"
    },
    {
      "cell_type": "markdown",
      "metadata": {
        "collapsed": false,
        "id": "a89c1cd7124c73ff"
      },
      "source": [
        "Split into test and training samples"
      ],
      "id": "a89c1cd7124c73ff"
    },
    {
      "cell_type": "code",
      "execution_count": 12,
      "metadata": {
        "id": "e43363d92118a299"
      },
      "outputs": [],
      "source": [
        "X_train, X_test, y_train, y_test = train_test_split(news_df['tokenized_text'], news_df['label'], test_size=0.2, random_state=RANDOM_STATE)"
      ],
      "id": "e43363d92118a299"
    },
    {
      "cell_type": "markdown",
      "metadata": {
        "collapsed": false,
        "id": "3ffe561e35131976"
      },
      "source": [
        "Vectorize"
      ],
      "id": "3ffe561e35131976"
    },
    {
      "cell_type": "code",
      "execution_count": 13,
      "metadata": {
        "id": "9626fe2f781d19f9"
      },
      "outputs": [],
      "source": [
        "word2vec_model = Word2Vec(sentences=X_train, vector_size=100, window=5, min_count=1, workers=1) # 1 worker for reproducing\n",
        "\n",
        "def text_to_sequence(tokenized_text, max_length):\n",
        "    sequence = np.zeros((max_length, 100))\n",
        "    for i, word in enumerate(tokenized_text[:max_length]):\n",
        "        if word in word2vec_model.wv:\n",
        "            sequence[i] = word2vec_model.wv[word]\n",
        "    return sequence\n",
        "\n",
        "max_length = 100\n",
        "X_train_seq = np.array([text_to_sequence(text, max_length) for text in X_train])\n",
        "X_test_seq = np.array([text_to_sequence(text, max_length) for text in X_test])\n",
        "\n",
        "y_train_seq = y_train.values\n",
        "y_test_seq = y_test.values"
      ],
      "id": "9626fe2f781d19f9"
    },
    {
      "cell_type": "markdown",
      "metadata": {
        "collapsed": false,
        "id": "6c40cbefb6e0f4a4"
      },
      "source": [
        "## Training"
      ],
      "id": "6c40cbefb6e0f4a4"
    },
    {
      "cell_type": "code",
      "execution_count": 14,
      "metadata": {
        "id": "bd5177c7e5a3ba12"
      },
      "outputs": [],
      "source": [
        "X_train_tensor = torch.tensor(X_train_seq, dtype=torch.float32)\n",
        "y_train_tensor = torch.tensor(y_train_seq, dtype=torch.float32)\n",
        "X_test_tensor = torch.tensor(X_test_seq, dtype=torch.float32)\n",
        "y_test_tensor = torch.tensor(y_test_seq, dtype=torch.float32)\n",
        "\n",
        "train_dataset = TensorDataset(X_train_tensor, y_train_tensor)\n",
        "train_dataloader = DataLoader(train_dataset, batch_size=32, shuffle=True)"
      ],
      "id": "bd5177c7e5a3ba12"
    },
    {
      "cell_type": "markdown",
      "metadata": {
        "collapsed": false,
        "id": "fe1d67cce18d0c7a"
      },
      "source": [
        "CNN"
      ],
      "id": "fe1d67cce18d0c7a"
    },
    {
      "cell_type": "code",
      "execution_count": 15,
      "metadata": {
        "id": "93500da425c3e5d9",
        "outputId": "c35289be-b512-4e66-99ba-a1662e9a8f5f",
        "colab": {
          "base_uri": "https://localhost:8080/"
        }
      },
      "outputs": [
        {
          "output_type": "stream",
          "name": "stderr",
          "text": [
            "Epoch 1/5: 100%|██████████| 1123/1123 [00:22<00:00, 50.44it/s]\n"
          ]
        },
        {
          "output_type": "stream",
          "name": "stdout",
          "text": [
            "Avg Loss: 0.020030665539246293\n"
          ]
        },
        {
          "output_type": "stream",
          "name": "stderr",
          "text": [
            "Epoch 2/5: 100%|██████████| 1123/1123 [00:21<00:00, 51.22it/s]\n"
          ]
        },
        {
          "output_type": "stream",
          "name": "stdout",
          "text": [
            "Avg Loss: 0.002669221999549429\n"
          ]
        },
        {
          "output_type": "stream",
          "name": "stderr",
          "text": [
            "Epoch 3/5: 100%|██████████| 1123/1123 [00:21<00:00, 51.18it/s]\n"
          ]
        },
        {
          "output_type": "stream",
          "name": "stdout",
          "text": [
            "Avg Loss: 0.0030203063233189315\n"
          ]
        },
        {
          "output_type": "stream",
          "name": "stderr",
          "text": [
            "Epoch 4/5: 100%|██████████| 1123/1123 [00:22<00:00, 49.78it/s]\n"
          ]
        },
        {
          "output_type": "stream",
          "name": "stdout",
          "text": [
            "Avg Loss: 0.0021146706733790248\n"
          ]
        },
        {
          "output_type": "stream",
          "name": "stderr",
          "text": [
            "Epoch 5/5: 100%|██████████| 1123/1123 [00:25<00:00, 44.13it/s]"
          ]
        },
        {
          "output_type": "stream",
          "name": "stdout",
          "text": [
            "Avg Loss: 0.0015718439696766982\n"
          ]
        },
        {
          "output_type": "stream",
          "name": "stderr",
          "text": [
            "\n"
          ]
        }
      ],
      "source": [
        "class CNN(nn.Module):\n",
        "    def __init__(self):\n",
        "        super(CNN, self).__init__()\n",
        "        self.conv1 = nn.Conv1d(100, 128, 5)\n",
        "        self.pool = nn.MaxPool1d(5)\n",
        "        self.fc1 = nn.Linear(128 * ((max_length - 5 + 1) // 5), 1)\n",
        "\n",
        "    def forward(self, x):\n",
        "        x = self.conv1(x)\n",
        "        x = torch.relu(x)\n",
        "        x = self.pool(x)\n",
        "        x = torch.flatten(x, 1)\n",
        "        x = self.fc1(x)\n",
        "        x = torch.sigmoid(x)\n",
        "        return x\n",
        "\n",
        "\n",
        "model_cnn = CNN()\n",
        "optimizer = optim.Adam(model_cnn.parameters(), lr=0.001)\n",
        "criterion = nn.BCELoss()\n",
        "\n",
        "epochs = 5\n",
        "\n",
        "for epoch in range(epochs):\n",
        "    epoch_loss = 0\n",
        "    for batch_X, batch_y in tqdm(train_dataloader, desc=f\"Epoch {epoch + 1}/{epochs}\"):\n",
        "        optimizer.zero_grad()\n",
        "        outputs = model_cnn(batch_X.permute(0, 2, 1))\n",
        "        loss = criterion(outputs.squeeze(), batch_y)\n",
        "        loss.backward()\n",
        "        optimizer.step()\n",
        "        epoch_loss += loss.item()\n",
        "\n",
        "    print(f'Avg Loss: {epoch_loss / len(train_dataloader)}')"
      ],
      "id": "93500da425c3e5d9"
    },
    {
      "cell_type": "markdown",
      "metadata": {
        "collapsed": false,
        "id": "bf120a04bb6d233"
      },
      "source": [
        "LSTM"
      ],
      "id": "bf120a04bb6d233"
    },
    {
      "cell_type": "code",
      "execution_count": 16,
      "metadata": {
        "id": "35baa4db67caf58f",
        "outputId": "b4a10c43-4504-4e6d-9b2c-087588f5543b",
        "colab": {
          "base_uri": "https://localhost:8080/"
        }
      },
      "outputs": [
        {
          "output_type": "stream",
          "name": "stderr",
          "text": [
            "Epoch 1/5: 100%|██████████| 1123/1123 [00:46<00:00, 24.07it/s]\n"
          ]
        },
        {
          "output_type": "stream",
          "name": "stdout",
          "text": [
            "Avg Loss: 0.25143002117017843\n"
          ]
        },
        {
          "output_type": "stream",
          "name": "stderr",
          "text": [
            "Epoch 2/5: 100%|██████████| 1123/1123 [00:52<00:00, 21.59it/s]\n"
          ]
        },
        {
          "output_type": "stream",
          "name": "stdout",
          "text": [
            "Avg Loss: 0.03036899444583276\n"
          ]
        },
        {
          "output_type": "stream",
          "name": "stderr",
          "text": [
            "Epoch 3/5: 100%|██████████| 1123/1123 [00:45<00:00, 24.57it/s]\n"
          ]
        },
        {
          "output_type": "stream",
          "name": "stdout",
          "text": [
            "Avg Loss: 0.012373617864394261\n"
          ]
        },
        {
          "output_type": "stream",
          "name": "stderr",
          "text": [
            "Epoch 4/5: 100%|██████████| 1123/1123 [00:45<00:00, 24.73it/s]\n"
          ]
        },
        {
          "output_type": "stream",
          "name": "stdout",
          "text": [
            "Avg Loss: 0.010049907859345982\n"
          ]
        },
        {
          "output_type": "stream",
          "name": "stderr",
          "text": [
            "Epoch 5/5: 100%|██████████| 1123/1123 [00:46<00:00, 24.33it/s]"
          ]
        },
        {
          "output_type": "stream",
          "name": "stdout",
          "text": [
            "Avg Loss: 0.008452688533269973\n"
          ]
        },
        {
          "output_type": "stream",
          "name": "stderr",
          "text": [
            "\n"
          ]
        }
      ],
      "source": [
        "class LSTM(nn.Module):\n",
        "    def __init__(self):\n",
        "        super(LSTM, self).__init__()\n",
        "        self.lstm = nn.LSTM(100, 128, batch_first=True)\n",
        "        self.fc1 = nn.Linear(128, 1)\n",
        "\n",
        "    def forward(self, x):\n",
        "        h_0 = torch.zeros(1, x.size(0), 128)\n",
        "        c_0 = torch.zeros(1, x.size(0), 128)\n",
        "        out, _ = self.lstm(x, (h_0, c_0))\n",
        "        out = self.fc1(out[:, -1, :])\n",
        "        out = torch.sigmoid(out)\n",
        "        return out\n",
        "\n",
        "\n",
        "model_lstm = LSTM()\n",
        "optimizer = optim.Adam(model_lstm.parameters(), lr=0.001)\n",
        "criterion = nn.BCELoss()\n",
        "\n",
        "epochs = 5\n",
        "\n",
        "for epoch in range(epochs):\n",
        "    epoch_loss = 0\n",
        "    for batch_X, batch_y in tqdm(train_dataloader, desc=f\"Epoch {epoch + 1}/{epochs}\"):\n",
        "        optimizer.zero_grad()\n",
        "        outputs = model_lstm(batch_X)\n",
        "        loss = criterion(outputs.squeeze(), batch_y)\n",
        "        loss.backward()\n",
        "        optimizer.step()\n",
        "        epoch_loss += loss.item()\n",
        "\n",
        "    print(f'Avg Loss: {epoch_loss / len(train_dataloader)}')"
      ],
      "id": "35baa4db67caf58f"
    },
    {
      "cell_type": "markdown",
      "metadata": {
        "collapsed": false,
        "id": "edd9cadd1f9b0d77"
      },
      "source": [
        "## Evaluation"
      ],
      "id": "edd9cadd1f9b0d77"
    },
    {
      "cell_type": "code",
      "execution_count": 17,
      "metadata": {
        "id": "f275dae2c580eb19",
        "outputId": "c86581a5-23d6-4ec6-ea31-9ceb67d6d8c8",
        "colab": {
          "base_uri": "https://localhost:8080/"
        }
      },
      "outputs": [
        {
          "output_type": "stream",
          "name": "stdout",
          "text": [
            "CNN - Accuracy: 0.9989977728285078, Precision: 0.9995285242809995, Recall: 0.9983517777254532, F1: 0.9989398044528213\n",
            "LSTM - Accuracy: 0.998218262806236, Precision: 0.9967128433904673, Recall: 0.9995290793501295, F1: 0.9981189748412885\n"
          ]
        }
      ],
      "source": [
        "def evaluate_model(model, X_test_tensor, y_test_tensor):\n",
        "    with torch.no_grad():\n",
        "        outputs = model(X_test_tensor.permute(0, 2, 1) if isinstance(model, CNN) else X_test_tensor)\n",
        "        predictions = (outputs.squeeze() > 0.5).float()\n",
        "\n",
        "    accuracy = accuracy_score(y_test_tensor, predictions)\n",
        "    precision = precision_score(y_test_tensor, predictions)\n",
        "    recall = recall_score(y_test_tensor, predictions)\n",
        "    f1 = f1_score(y_test_tensor, predictions)\n",
        "\n",
        "    return accuracy, precision, recall, f1\n",
        "\n",
        "\n",
        "accuracy_cnn, precision_cnn, recall_cnn, f1_cnn = evaluate_model(model_cnn, X_test_tensor, y_test_tensor)\n",
        "print(f\"CNN - Accuracy: {accuracy_cnn}, Precision: {precision_cnn}, Recall: {recall_cnn}, F1: {f1_cnn}\")\n",
        "\n",
        "accuracy_lstm, precision_lstm, recall_lstm, f1_lstm = evaluate_model(model_lstm, X_test_tensor, y_test_tensor)\n",
        "print(f\"LSTM - Accuracy: {accuracy_lstm}, Precision: {precision_lstm}, Recall: {recall_lstm}, F1: {f1_lstm}\")"
      ],
      "id": "f275dae2c580eb19"
    },
    {
      "cell_type": "code",
      "execution_count": 18,
      "metadata": {
        "id": "4c23e76c7883cd60",
        "outputId": "33d94e4c-019b-4c86-b01d-20139a1b32c7",
        "colab": {
          "base_uri": "https://localhost:8080/"
        }
      },
      "outputs": [
        {
          "output_type": "stream",
          "name": "stdout",
          "text": [
            "Total trainable parameters for CNN: 66561\n",
            "Total trainable parameters for LSTM: 117889\n"
          ]
        }
      ],
      "source": [
        "def count_parameters(model):\n",
        "    return sum(p.numel() for p in model.parameters() if p.requires_grad)\n",
        "\n",
        "\n",
        "params_cnn = count_parameters(model_cnn)\n",
        "print(f\"Total trainable parameters for CNN: {params_cnn}\")\n",
        "\n",
        "params_lstm = count_parameters(model_lstm)\n",
        "print(f\"Total trainable parameters for LSTM: {params_lstm}\")"
      ],
      "id": "4c23e76c7883cd60"
    }
  ],
  "metadata": {
    "accelerator": "GPU",
    "colab": {
      "provenance": []
    },
    "kernelspec": {
      "display_name": "Python 3 (ipykernel)",
      "language": "python",
      "name": "python3"
    },
    "language_info": {
      "codemirror_mode": {
        "name": "ipython",
        "version": 2
      },
      "file_extension": ".py",
      "mimetype": "text/x-python",
      "name": "python",
      "nbconvert_exporter": "python",
      "pygments_lexer": "ipython2",
      "version": "2.7.6"
    }
  },
  "nbformat": 4,
  "nbformat_minor": 5
}