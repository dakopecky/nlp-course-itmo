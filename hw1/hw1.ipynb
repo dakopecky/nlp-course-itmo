{
 "cells": [
  {
   "cell_type": "markdown",
   "source": [
    "# Dependency Installation and Repository Cloning"
   ],
   "metadata": {
    "id": "kOyTYZgsq035"
   },
   "id": "kOyTYZgsq035"
  },
  {
   "cell_type": "markdown",
   "source": [
    "### Run it if you're using this notebook in Google Colab"
   ],
   "metadata": {
    "id": "bIgHW9Muv5Ad"
   },
   "id": "bIgHW9Muv5Ad"
  },
  {
   "cell_type": "code",
   "source": [
    "!git clone 'https://github.com/dakopecky/nlp-course-itmo.git'\n",
    "\n",
    "%cd nlp-course-itmo\n",
    "%cd hw1\n",
    "\n",
    "!pip install poetry\n",
    "!poetry config virtualenvs.create false\n",
    "!poetry install --no-ansi"
   ],
   "metadata": {
    "id": "n2pvOkxAtnM4"
   },
   "id": "n2pvOkxAtnM4",
   "execution_count": null,
   "outputs": []
  },
  {
   "cell_type": "markdown",
   "source": [
    "# Dataset Loading and Preprocessing"
   ],
   "metadata": {
    "id": "HRWriMo2u41c"
   },
   "id": "HRWriMo2u41c"
  },
  {
   "cell_type": "markdown",
   "source": [
    "Import deps"
   ],
   "metadata": {
    "collapsed": false,
    "id": "dca1d5278cf61bad"
   },
   "id": "dca1d5278cf61bad"
  },
  {
   "cell_type": "code",
   "execution_count": null,
   "outputs": [],
   "source": [
    "# This code includes software developed by the following open-source projects:\n",
    "# - NLTK (License: Apache License 2.0, Authors: Steven Bird, Edward Loper, Ewan Klein)\n",
    "# - preprocessor (License: MIT, Authors: Saurabh Mathur)\n",
    "# - Corus (License: MIT, Authors: Denis Emelin)\n",
    "# - Pymorphy2 (License: MIT, Authors: Mikhail Korobov)\n",
    "# - Jupyter Notebook (License: Modified BSD License, Authors: Project Jupyter)\n",
    "# For the full license information, please see the `licenses` directory.\n",
    "\n",
    "\n",
    "import nltk\n",
    "import preprocessor as p\n",
    "from nltk.corpus import stopwords\n",
    "from nltk.tokenize import TweetTokenizer\n",
    "from corus import load_mokoron\n",
    "import pymorphy2"
   ],
   "metadata": {
    "id": "309681695a20c267"
   },
   "id": "309681695a20c267"
  },
  {
   "cell_type": "markdown",
   "source": [
    "Download the \"Mokoron Russian Twitter Corpus\" dataset"
   ],
   "metadata": {
    "collapsed": false,
    "id": "dcae3b8b511680c9"
   },
   "id": "dcae3b8b511680c9"
  },
  {
   "cell_type": "code",
   "execution_count": null,
   "outputs": [],
   "source": [
    "!gdown '1H_xuXdB9_YkIZJMwr-UGY1cbMLJt4JgK' -O 'db.sql'"
   ],
   "metadata": {
    "id": "bf3ca4807ca0c69d"
   },
   "id": "bf3ca4807ca0c69d"
  },
  {
   "cell_type": "markdown",
   "source": [
    "Load the dataset"
   ],
   "metadata": {
    "collapsed": false,
    "id": "a3d3487c8f0b0826"
   },
   "id": "a3d3487c8f0b0826"
  },
  {
   "cell_type": "code",
   "execution_count": null,
   "outputs": [],
   "source": [
    "path = 'db.sql'\n",
    "records = load_mokoron(path)"
   ],
   "metadata": {
    "id": "d16650c7798ffb08"
   },
   "id": "d16650c7798ffb08"
  },
  {
   "cell_type": "markdown",
   "source": [
    "Extract text"
   ],
   "metadata": {
    "collapsed": false,
    "id": "338bc4077682982c"
   },
   "id": "338bc4077682982c"
  },
  {
   "cell_type": "code",
   "execution_count": null,
   "outputs": [],
   "source": [
    "N = 100000\n",
    "texts = [record.text for _, record in zip(range(N), records)]"
   ],
   "metadata": {
    "id": "520633f23c163506"
   },
   "id": "520633f23c163506"
  },
  {
   "cell_type": "markdown",
   "source": [
    "Load resources for nltk"
   ],
   "metadata": {
    "collapsed": false,
    "id": "559825525289bb68"
   },
   "id": "559825525289bb68"
  },
  {
   "cell_type": "code",
   "execution_count": null,
   "outputs": [],
   "source": [
    "nltk.download('punkt')\n",
    "nltk.download('stopwords')"
   ],
   "metadata": {
    "id": "b96d3d744e77e201"
   },
   "id": "b96d3d744e77e201"
  },
  {
   "cell_type": "markdown",
   "source": [
    "Lowercase the text"
   ],
   "metadata": {
    "collapsed": false,
    "id": "a0e6457eaae071c6"
   },
   "id": "a0e6457eaae071c6"
  },
  {
   "cell_type": "code",
   "execution_count": null,
   "outputs": [],
   "source": [
    "texts = [text.lower() for text in texts]"
   ],
   "metadata": {
    "id": "f065ef7351b8c51a"
   },
   "id": "f065ef7351b8c51a"
  },
  {
   "cell_type": "markdown",
   "source": [
    "Remove @tags, links and \\\\n noise"
   ],
   "metadata": {
    "collapsed": false,
    "id": "1fee4bbeb39dafff"
   },
   "id": "1fee4bbeb39dafff"
  },
  {
   "cell_type": "markdown",
   "source": [
    "Text before the cleanup"
   ],
   "metadata": {
    "id": "fMZtcU5UwyHk"
   },
   "id": "fMZtcU5UwyHk"
  },
  {
   "cell_type": "code",
   "execution_count": null,
   "outputs": [
    {
     "output_type": "execute_result",
     "data": {
      "text/plain": [
       "['пропавшая в хабаровске школьница почти сутки провела в яме у коллектор',\n",
       " 'лента, я сегодня полгода дирекшионеееер! с:\\\\nхотя все равно никто не поздравит лол',\n",
       " 'царствие божие внутрь вас есть.',\n",
       " 'rt @twitregion: ученые: кофе приносит намного больше вреда, чем пиво',\n",
       " 'http://t.co/zzzwylsmon справка по адаптации 5 классников']"
      ]
     },
     "metadata": {},
     "execution_count": 26
    }
   ],
   "source": [
    "texts[:5]"
   ],
   "metadata": {
    "id": "1b0848ac274cbd9a",
    "colab": {
     "base_uri": "https://localhost:8080/"
    },
    "outputId": "2f1cd3eb-48cf-4d49-a28a-252eae5a3f0e"
   },
   "id": "1b0848ac274cbd9a"
  },
  {
   "cell_type": "code",
   "execution_count": null,
   "outputs": [],
   "source": [
    "p.set_options(p.OPT.URL, p.OPT.MENTION)\n",
    "texts = [p.clean(text.replace('\\\\n', ' ')) for text in texts]"
   ],
   "metadata": {
    "id": "22b148b94a915c9e"
   },
   "id": "22b148b94a915c9e"
  },
  {
   "cell_type": "markdown",
   "source": [
    "Text after"
   ],
   "metadata": {
    "id": "bZ8-nx1Iw8WB"
   },
   "id": "bZ8-nx1Iw8WB"
  },
  {
   "cell_type": "code",
   "execution_count": null,
   "outputs": [
    {
     "output_type": "execute_result",
     "data": {
      "text/plain": [
       "['пропавшая в хабаровске школьница почти сутки провела в яме у коллектор',\n",
       " 'лента, я сегодня полгода дирекшионеееер! с: хотя все равно никто не поздравит лол',\n",
       " 'царствие божие внутрь вас есть.',\n",
       " 'rt : ученые: кофе приносит намного больше вреда, чем пиво',\n",
       " 'справка по адаптации 5 классников']"
      ]
     },
     "metadata": {},
     "execution_count": 28
    }
   ],
   "source": [
    "texts[:5]"
   ],
   "metadata": {
    "id": "1b99866393dcdf6b",
    "colab": {
     "base_uri": "https://localhost:8080/"
    },
    "outputId": "bd178da8-b3e0-4799-b5c3-78df3f683858"
   },
   "id": "1b99866393dcdf6b"
  },
  {
   "cell_type": "markdown",
   "source": [
    "Tokenize the text"
   ],
   "metadata": {
    "collapsed": false,
    "id": "14b8fe3a45819177"
   },
   "id": "14b8fe3a45819177"
  },
  {
   "cell_type": "code",
   "execution_count": null,
   "outputs": [],
   "source": [
    "tknzr = TweetTokenizer()\n",
    "tokenized_texts = [tknzr.tokenize(text) for text in texts]"
   ],
   "metadata": {
    "id": "defc5e516755b4a9"
   },
   "id": "defc5e516755b4a9"
  },
  {
   "cell_type": "code",
   "execution_count": null,
   "outputs": [
    {
     "output_type": "execute_result",
     "data": {
      "text/plain": [
       "[['пропавшая',\n",
       "  'в',\n",
       "  'хабаровске',\n",
       "  'школьница',\n",
       "  'почти',\n",
       "  'сутки',\n",
       "  'провела',\n",
       "  'в',\n",
       "  'яме',\n",
       "  'у',\n",
       "  'коллектор'],\n",
       " ['лента',\n",
       "  ',',\n",
       "  'я',\n",
       "  'сегодня',\n",
       "  'полгода',\n",
       "  'дирекшионееер',\n",
       "  '!',\n",
       "  'с',\n",
       "  ':',\n",
       "  'хотя',\n",
       "  'все',\n",
       "  'равно',\n",
       "  'никто',\n",
       "  'не',\n",
       "  'поздравит',\n",
       "  'лол'],\n",
       " ['царствие', 'божие', 'внутрь', 'вас', 'есть', '.'],\n",
       " ['rt',\n",
       "  ':',\n",
       "  'ученые',\n",
       "  ':',\n",
       "  'кофе',\n",
       "  'приносит',\n",
       "  'намного',\n",
       "  'больше',\n",
       "  'вреда',\n",
       "  ',',\n",
       "  'чем',\n",
       "  'пиво'],\n",
       " ['справка', 'по', 'адаптации', '5', 'классников']]"
      ]
     },
     "metadata": {},
     "execution_count": 30
    }
   ],
   "source": [
    "tokenized_texts[:5]"
   ],
   "metadata": {
    "id": "8b129b8dd276ddfd",
    "colab": {
     "base_uri": "https://localhost:8080/"
    },
    "outputId": "ec8a587e-8903-4bf9-f49c-302389602469"
   },
   "id": "8b129b8dd276ddfd"
  },
  {
   "cell_type": "markdown",
   "source": [
    "Remove punctuation"
   ],
   "metadata": {
    "collapsed": false,
    "id": "c2c481f332d4dc9b"
   },
   "id": "c2c481f332d4dc9b"
  },
  {
   "cell_type": "code",
   "execution_count": null,
   "outputs": [],
   "source": [
    "exclude_punctuations = {',', '.', ';', ':', '\"', \"'\", \"{\", \"}\", \"[\", \"]\", \"*\", \"-\", \"—\", \"_\", \"/\", \"\\\\\", \"&\"}\n",
    "filtered_texts = [[token for token in text if token not in exclude_punctuations] for text in tokenized_texts]"
   ],
   "metadata": {
    "id": "f199f25bc15908bf"
   },
   "id": "f199f25bc15908bf"
  },
  {
   "cell_type": "code",
   "execution_count": null,
   "outputs": [
    {
     "output_type": "execute_result",
     "data": {
      "text/plain": [
       "[['пропавшая',\n",
       "  'в',\n",
       "  'хабаровске',\n",
       "  'школьница',\n",
       "  'почти',\n",
       "  'сутки',\n",
       "  'провела',\n",
       "  'в',\n",
       "  'яме',\n",
       "  'у',\n",
       "  'коллектор'],\n",
       " ['лента',\n",
       "  'я',\n",
       "  'сегодня',\n",
       "  'полгода',\n",
       "  'дирекшионееер',\n",
       "  '!',\n",
       "  'с',\n",
       "  'хотя',\n",
       "  'все',\n",
       "  'равно',\n",
       "  'никто',\n",
       "  'не',\n",
       "  'поздравит',\n",
       "  'лол'],\n",
       " ['царствие', 'божие', 'внутрь', 'вас', 'есть'],\n",
       " ['rt',\n",
       "  'ученые',\n",
       "  'кофе',\n",
       "  'приносит',\n",
       "  'намного',\n",
       "  'больше',\n",
       "  'вреда',\n",
       "  'чем',\n",
       "  'пиво'],\n",
       " ['справка', 'по', 'адаптации', '5', 'классников']]"
      ]
     },
     "metadata": {},
     "execution_count": 32
    }
   ],
   "source": [
    "filtered_texts[:5]"
   ],
   "metadata": {
    "id": "d78b5eb243596762",
    "colab": {
     "base_uri": "https://localhost:8080/"
    },
    "outputId": "47a3cff2-e60f-475b-fc3b-57fd44128dd9"
   },
   "id": "d78b5eb243596762"
  },
  {
   "cell_type": "markdown",
   "source": [
    "Remove stop-words"
   ],
   "metadata": {
    "collapsed": false,
    "id": "9fdfe0295b9c53a4"
   },
   "id": "9fdfe0295b9c53a4"
  },
  {
   "cell_type": "code",
   "execution_count": null,
   "outputs": [],
   "source": [
    "russian_stopwords = stopwords.words(\"russian\")\n",
    "filtered_texts = [[word for word in text if word not in russian_stopwords] for text in filtered_texts]"
   ],
   "metadata": {
    "id": "98fee96826ca0515"
   },
   "id": "98fee96826ca0515"
  },
  {
   "cell_type": "code",
   "execution_count": null,
   "outputs": [
    {
     "output_type": "execute_result",
     "data": {
      "text/plain": [
       "[['пропавшая',\n",
       "  'хабаровске',\n",
       "  'школьница',\n",
       "  'сутки',\n",
       "  'провела',\n",
       "  'яме',\n",
       "  'коллектор'],\n",
       " ['лента',\n",
       "  'сегодня',\n",
       "  'полгода',\n",
       "  'дирекшионееер',\n",
       "  '!',\n",
       "  'хотя',\n",
       "  'равно',\n",
       "  'никто',\n",
       "  'поздравит',\n",
       "  'лол'],\n",
       " ['царствие', 'божие', 'внутрь'],\n",
       " ['rt', 'ученые', 'кофе', 'приносит', 'намного', 'вреда', 'пиво'],\n",
       " ['справка', 'адаптации', '5', 'классников']]"
      ]
     },
     "metadata": {},
     "execution_count": 34
    }
   ],
   "source": [
    "filtered_texts[:5]"
   ],
   "metadata": {
    "id": "64100e0fc550c61a",
    "colab": {
     "base_uri": "https://localhost:8080/"
    },
    "outputId": "b1eb84a7-a5c6-44e2-aab0-5cdeca19a11b"
   },
   "id": "64100e0fc550c61a"
  },
  {
   "cell_type": "markdown",
   "source": [
    "Lemmatize the text"
   ],
   "metadata": {
    "collapsed": false,
    "id": "c297810e18b31286"
   },
   "id": "c297810e18b31286"
  },
  {
   "cell_type": "code",
   "execution_count": null,
   "outputs": [],
   "source": [
    "morph = pymorphy2.MorphAnalyzer()\n",
    "lemmatized_texts = [[morph.parse(word)[0].normal_form for word in text] for text in filtered_texts]"
   ],
   "metadata": {
    "id": "ffce6f1b1aa48ecf"
   },
   "id": "ffce6f1b1aa48ecf"
  },
  {
   "cell_type": "code",
   "execution_count": null,
   "outputs": [
    {
     "output_type": "execute_result",
     "data": {
      "text/plain": [
       "[['пропасть',\n",
       "  'хабаровск',\n",
       "  'школьница',\n",
       "  'сутки',\n",
       "  'провести',\n",
       "  'яма',\n",
       "  'коллектор'],\n",
       " ['лента',\n",
       "  'сегодня',\n",
       "  'полгода',\n",
       "  'дирекшионееер',\n",
       "  '!',\n",
       "  'хотя',\n",
       "  'равно',\n",
       "  'никто',\n",
       "  'поздравить',\n",
       "  'лола'],\n",
       " ['царствие', 'божий', 'внутрь'],\n",
       " ['rt', 'учёный', 'кофе', 'приносить', 'намного', 'вред', 'пиво'],\n",
       " ['справка', 'адаптация', '5', 'классник']]"
      ]
     },
     "metadata": {},
     "execution_count": 36
    }
   ],
   "source": [
    "lemmatized_texts[:5]"
   ],
   "metadata": {
    "id": "2c09a120be0e5015",
    "colab": {
     "base_uri": "https://localhost:8080/"
    },
    "outputId": "4991d01f-005e-403c-fd8c-2ab89569ddc6"
   },
   "id": "2c09a120be0e5015"
  }
 ],
 "metadata": {
  "kernelspec": {
   "display_name": "Python 3",
   "name": "python3"
  },
  "language_info": {
   "codemirror_mode": {
    "name": "ipython",
    "version": 2
   },
   "file_extension": ".py",
   "mimetype": "text/x-python",
   "name": "python",
   "nbconvert_exporter": "python",
   "pygments_lexer": "ipython2",
   "version": "2.7.6"
  },
  "colab": {
   "provenance": [],
   "gpuType": "T4",
   "collapsed_sections": [
    "kOyTYZgsq035",
    "bIgHW9Muv5Ad",
    "HRWriMo2u41c"
   ]
  },
  "accelerator": "GPU"
 },
 "nbformat": 4,
 "nbformat_minor": 5
}
